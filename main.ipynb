{
 "cells": [
  {
   "cell_type": "markdown",
   "metadata": {},
   "source": [
    "# Homework 1 (October 18)"
   ]
  },
  {
   "cell_type": "code",
   "execution_count": 1,
   "metadata": {},
   "outputs": [],
   "source": [
    "import pandas as pd\n",
    "import numpy as np\n",
    "import matplotlib.pyplot as plt\n",
    "import sklearn\n",
    "%matplotlib inline"
   ]
  },
  {
   "cell_type": "markdown",
   "metadata": {},
   "source": [
    "# Описание задачи:\n",
    "\n",
    "https://www.kaggle.com/lucidlenn/sloan-digital-sky-survey\n",
    "\n",
    "Даны 10000 наблюдений различных объектов с телескопа. Необходимо предсказать, является ли объект:\n",
    "\n",
    "* звездой (класс `STAR`)\n",
    "* галактикой (системой звезд) (класс `QALAXY`) \n",
    "* квазаром (сверхъярким астрономическим объектом, имеющим малые угловые размеры) (класс `QSO`)\n",
    "\n",
    "Для каждого примера существует 17 признаков:\n",
    "* `objid` - идентификатор фотометрических данных изображения\n",
    "* `ra` (Right Ascension - прямое восхождение) - угол в системе координат, привязанной к Солнечной системе (аналог долготы)\n",
    "* `dec` (declination) - аналогичный угол, аналог широты. Вместе `ra` и `dec` однозначно задают направление, с которого пришел сигнал\n",
    "* `u, g, r, i, z` - сигналы в пяти частотных каналах телескопа\n",
    "* `run, rerun, camcol, field` (run number, rerun number, camera column, field number) - параметры, описывающие изображение, захваченное телескопом. `run` описывает номер конкретного снимка (могут повторяться), `rerun` - постобработку, `camcol` - категориальный признак, означает положение снимка (камера снимает небо построчно; каждый `run` разбит на 6 параллельных строк), `field` - минимальная ячейка внутри `camcol` размером 10х13 угловых минут. Более подробно о том, как устроены изображения, можно прочитать тут:\n",
    "https://www.sdss.org/dr12/imaging/imaging_basics/\n",
    "* `specobj` - идентификатор объекта (отличается от `objid`)\n",
    "* `redshift` - величина красного смещения. Из-за эффекта Допплера излучение от движущихся объектов смещается в зависимости от скорости ($\\Delta \\omega = \\omega_0 \\frac{v}{c}$, где $\\omega_0$ - исходная частота, $\\Delta \\omega$ - сдвиг частоты, $v$ - скорость объекта, $c$ - скорость света), и этот сдвиг можно предсказать, используя знания о спектре характерных частот (например, знание спектра излучения атома водорода)\n",
    "* `plate, fiberid` - идентификаторы систем направления лучей в ячейки камеры\n",
    "* `MJD` - дата эксперимента"
   ]
  },
  {
   "cell_type": "code",
   "execution_count": 2,
   "metadata": {},
   "outputs": [],
   "source": [
    "data = pd.read_csv('./Skyserver_SQL2_27_2018 6_51_39 PM.csv')"
   ]
  },
  {
   "cell_type": "code",
   "execution_count": 3,
   "metadata": {},
   "outputs": [
    {
     "data": {
      "text/html": [
       "<div>\n",
       "<style scoped>\n",
       "    .dataframe tbody tr th:only-of-type {\n",
       "        vertical-align: middle;\n",
       "    }\n",
       "\n",
       "    .dataframe tbody tr th {\n",
       "        vertical-align: top;\n",
       "    }\n",
       "\n",
       "    .dataframe thead th {\n",
       "        text-align: right;\n",
       "    }\n",
       "</style>\n",
       "<table border=\"1\" class=\"dataframe\">\n",
       "  <thead>\n",
       "    <tr style=\"text-align: right;\">\n",
       "      <th></th>\n",
       "      <th>objid</th>\n",
       "      <th>ra</th>\n",
       "      <th>dec</th>\n",
       "      <th>u</th>\n",
       "      <th>g</th>\n",
       "      <th>r</th>\n",
       "      <th>i</th>\n",
       "      <th>z</th>\n",
       "      <th>run</th>\n",
       "      <th>rerun</th>\n",
       "      <th>camcol</th>\n",
       "      <th>field</th>\n",
       "      <th>specobjid</th>\n",
       "      <th>redshift</th>\n",
       "      <th>plate</th>\n",
       "      <th>mjd</th>\n",
       "      <th>fiberid</th>\n",
       "    </tr>\n",
       "  </thead>\n",
       "  <tbody>\n",
       "    <tr>\n",
       "      <th>count</th>\n",
       "      <td>1.000000e+04</td>\n",
       "      <td>10000.000000</td>\n",
       "      <td>10000.000000</td>\n",
       "      <td>10000.000000</td>\n",
       "      <td>10000.000000</td>\n",
       "      <td>10000.000000</td>\n",
       "      <td>10000.000000</td>\n",
       "      <td>10000.000000</td>\n",
       "      <td>10000.000000</td>\n",
       "      <td>10000.0</td>\n",
       "      <td>10000.000000</td>\n",
       "      <td>10000.000000</td>\n",
       "      <td>1.000000e+04</td>\n",
       "      <td>10000.000000</td>\n",
       "      <td>10000.000000</td>\n",
       "      <td>10000.000000</td>\n",
       "      <td>10000.000000</td>\n",
       "    </tr>\n",
       "    <tr>\n",
       "      <th>mean</th>\n",
       "      <td>1.237650e+18</td>\n",
       "      <td>175.529987</td>\n",
       "      <td>14.836148</td>\n",
       "      <td>18.619355</td>\n",
       "      <td>17.371931</td>\n",
       "      <td>16.840963</td>\n",
       "      <td>16.583579</td>\n",
       "      <td>16.422833</td>\n",
       "      <td>981.034800</td>\n",
       "      <td>301.0</td>\n",
       "      <td>3.648700</td>\n",
       "      <td>302.380100</td>\n",
       "      <td>1.645022e+18</td>\n",
       "      <td>0.143726</td>\n",
       "      <td>1460.986400</td>\n",
       "      <td>52943.533300</td>\n",
       "      <td>353.069400</td>\n",
       "    </tr>\n",
       "    <tr>\n",
       "      <th>std</th>\n",
       "      <td>0.000000e+00</td>\n",
       "      <td>47.783439</td>\n",
       "      <td>25.212207</td>\n",
       "      <td>0.828656</td>\n",
       "      <td>0.945457</td>\n",
       "      <td>1.067764</td>\n",
       "      <td>1.141805</td>\n",
       "      <td>1.203188</td>\n",
       "      <td>273.305024</td>\n",
       "      <td>0.0</td>\n",
       "      <td>1.666183</td>\n",
       "      <td>162.577763</td>\n",
       "      <td>2.013998e+18</td>\n",
       "      <td>0.388774</td>\n",
       "      <td>1788.778371</td>\n",
       "      <td>1511.150651</td>\n",
       "      <td>206.298149</td>\n",
       "    </tr>\n",
       "    <tr>\n",
       "      <th>min</th>\n",
       "      <td>1.237650e+18</td>\n",
       "      <td>8.235100</td>\n",
       "      <td>-5.382632</td>\n",
       "      <td>12.988970</td>\n",
       "      <td>12.799550</td>\n",
       "      <td>12.431600</td>\n",
       "      <td>11.947210</td>\n",
       "      <td>11.610410</td>\n",
       "      <td>308.000000</td>\n",
       "      <td>301.0</td>\n",
       "      <td>1.000000</td>\n",
       "      <td>11.000000</td>\n",
       "      <td>2.995780e+17</td>\n",
       "      <td>-0.004136</td>\n",
       "      <td>266.000000</td>\n",
       "      <td>51578.000000</td>\n",
       "      <td>1.000000</td>\n",
       "    </tr>\n",
       "    <tr>\n",
       "      <th>25%</th>\n",
       "      <td>1.237650e+18</td>\n",
       "      <td>157.370946</td>\n",
       "      <td>-0.539035</td>\n",
       "      <td>18.178035</td>\n",
       "      <td>16.815100</td>\n",
       "      <td>16.173333</td>\n",
       "      <td>15.853705</td>\n",
       "      <td>15.618285</td>\n",
       "      <td>752.000000</td>\n",
       "      <td>301.0</td>\n",
       "      <td>2.000000</td>\n",
       "      <td>184.000000</td>\n",
       "      <td>3.389248e+17</td>\n",
       "      <td>0.000081</td>\n",
       "      <td>301.000000</td>\n",
       "      <td>51900.000000</td>\n",
       "      <td>186.750000</td>\n",
       "    </tr>\n",
       "    <tr>\n",
       "      <th>50%</th>\n",
       "      <td>1.237650e+18</td>\n",
       "      <td>180.394514</td>\n",
       "      <td>0.404166</td>\n",
       "      <td>18.853095</td>\n",
       "      <td>17.495135</td>\n",
       "      <td>16.858770</td>\n",
       "      <td>16.554985</td>\n",
       "      <td>16.389945</td>\n",
       "      <td>756.000000</td>\n",
       "      <td>301.0</td>\n",
       "      <td>4.000000</td>\n",
       "      <td>299.000000</td>\n",
       "      <td>4.966580e+17</td>\n",
       "      <td>0.042591</td>\n",
       "      <td>441.000000</td>\n",
       "      <td>51997.000000</td>\n",
       "      <td>351.000000</td>\n",
       "    </tr>\n",
       "    <tr>\n",
       "      <th>75%</th>\n",
       "      <td>1.237650e+18</td>\n",
       "      <td>201.547279</td>\n",
       "      <td>35.649397</td>\n",
       "      <td>19.259232</td>\n",
       "      <td>18.010145</td>\n",
       "      <td>17.512675</td>\n",
       "      <td>17.258550</td>\n",
       "      <td>17.141447</td>\n",
       "      <td>1331.000000</td>\n",
       "      <td>301.0</td>\n",
       "      <td>5.000000</td>\n",
       "      <td>414.000000</td>\n",
       "      <td>2.881300e+18</td>\n",
       "      <td>0.092579</td>\n",
       "      <td>2559.000000</td>\n",
       "      <td>54468.000000</td>\n",
       "      <td>510.000000</td>\n",
       "    </tr>\n",
       "    <tr>\n",
       "      <th>max</th>\n",
       "      <td>1.237650e+18</td>\n",
       "      <td>260.884382</td>\n",
       "      <td>68.542265</td>\n",
       "      <td>19.599900</td>\n",
       "      <td>19.918970</td>\n",
       "      <td>24.802040</td>\n",
       "      <td>28.179630</td>\n",
       "      <td>22.833060</td>\n",
       "      <td>1412.000000</td>\n",
       "      <td>301.0</td>\n",
       "      <td>6.000000</td>\n",
       "      <td>768.000000</td>\n",
       "      <td>9.468830e+18</td>\n",
       "      <td>5.353854</td>\n",
       "      <td>8410.000000</td>\n",
       "      <td>57481.000000</td>\n",
       "      <td>1000.000000</td>\n",
       "    </tr>\n",
       "  </tbody>\n",
       "</table>\n",
       "</div>"
      ],
      "text/plain": [
       "              objid            ra           dec             u             g  \\\n",
       "count  1.000000e+04  10000.000000  10000.000000  10000.000000  10000.000000   \n",
       "mean   1.237650e+18    175.529987     14.836148     18.619355     17.371931   \n",
       "std    0.000000e+00     47.783439     25.212207      0.828656      0.945457   \n",
       "min    1.237650e+18      8.235100     -5.382632     12.988970     12.799550   \n",
       "25%    1.237650e+18    157.370946     -0.539035     18.178035     16.815100   \n",
       "50%    1.237650e+18    180.394514      0.404166     18.853095     17.495135   \n",
       "75%    1.237650e+18    201.547279     35.649397     19.259232     18.010145   \n",
       "max    1.237650e+18    260.884382     68.542265     19.599900     19.918970   \n",
       "\n",
       "                  r             i             z           run    rerun  \\\n",
       "count  10000.000000  10000.000000  10000.000000  10000.000000  10000.0   \n",
       "mean      16.840963     16.583579     16.422833    981.034800    301.0   \n",
       "std        1.067764      1.141805      1.203188    273.305024      0.0   \n",
       "min       12.431600     11.947210     11.610410    308.000000    301.0   \n",
       "25%       16.173333     15.853705     15.618285    752.000000    301.0   \n",
       "50%       16.858770     16.554985     16.389945    756.000000    301.0   \n",
       "75%       17.512675     17.258550     17.141447   1331.000000    301.0   \n",
       "max       24.802040     28.179630     22.833060   1412.000000    301.0   \n",
       "\n",
       "             camcol         field     specobjid      redshift         plate  \\\n",
       "count  10000.000000  10000.000000  1.000000e+04  10000.000000  10000.000000   \n",
       "mean       3.648700    302.380100  1.645022e+18      0.143726   1460.986400   \n",
       "std        1.666183    162.577763  2.013998e+18      0.388774   1788.778371   \n",
       "min        1.000000     11.000000  2.995780e+17     -0.004136    266.000000   \n",
       "25%        2.000000    184.000000  3.389248e+17      0.000081    301.000000   \n",
       "50%        4.000000    299.000000  4.966580e+17      0.042591    441.000000   \n",
       "75%        5.000000    414.000000  2.881300e+18      0.092579   2559.000000   \n",
       "max        6.000000    768.000000  9.468830e+18      5.353854   8410.000000   \n",
       "\n",
       "                mjd       fiberid  \n",
       "count  10000.000000  10000.000000  \n",
       "mean   52943.533300    353.069400  \n",
       "std     1511.150651    206.298149  \n",
       "min    51578.000000      1.000000  \n",
       "25%    51900.000000    186.750000  \n",
       "50%    51997.000000    351.000000  \n",
       "75%    54468.000000    510.000000  \n",
       "max    57481.000000   1000.000000  "
      ]
     },
     "execution_count": 3,
     "metadata": {},
     "output_type": "execute_result"
    }
   ],
   "source": [
    "data.describe()"
   ]
  },
  {
   "cell_type": "markdown",
   "metadata": {},
   "source": [
    "С помощью метода describe() можно увидеть, что есть две колонки, которые не несут в себе информации, так как для каждого примера в них дано одно и то же значение:\n",
    "\n",
    "**data['objid']** и **data['rerun']**\n",
    "\n",
    "Это объясняется тем, что для всех изображений фотометрические данные и постобработка не различаются - это хорошо."
   ]
  },
  {
   "cell_type": "code",
   "execution_count": 4,
   "metadata": {},
   "outputs": [
    {
     "data": {
      "text/html": [
       "<div>\n",
       "<style scoped>\n",
       "    .dataframe tbody tr th:only-of-type {\n",
       "        vertical-align: middle;\n",
       "    }\n",
       "\n",
       "    .dataframe tbody tr th {\n",
       "        vertical-align: top;\n",
       "    }\n",
       "\n",
       "    .dataframe thead th {\n",
       "        text-align: right;\n",
       "    }\n",
       "</style>\n",
       "<table border=\"1\" class=\"dataframe\">\n",
       "  <thead>\n",
       "    <tr style=\"text-align: right;\">\n",
       "      <th></th>\n",
       "      <th>ra</th>\n",
       "      <th>dec</th>\n",
       "      <th>u</th>\n",
       "      <th>g</th>\n",
       "      <th>r</th>\n",
       "      <th>i</th>\n",
       "      <th>z</th>\n",
       "      <th>run</th>\n",
       "      <th>camcol</th>\n",
       "      <th>field</th>\n",
       "      <th>specobjid</th>\n",
       "      <th>redshift</th>\n",
       "      <th>plate</th>\n",
       "      <th>mjd</th>\n",
       "      <th>fiberid</th>\n",
       "    </tr>\n",
       "  </thead>\n",
       "  <tbody>\n",
       "    <tr>\n",
       "      <th>count</th>\n",
       "      <td>10000.000000</td>\n",
       "      <td>10000.000000</td>\n",
       "      <td>10000.000000</td>\n",
       "      <td>10000.000000</td>\n",
       "      <td>10000.000000</td>\n",
       "      <td>10000.000000</td>\n",
       "      <td>10000.000000</td>\n",
       "      <td>10000.000000</td>\n",
       "      <td>10000.000000</td>\n",
       "      <td>10000.000000</td>\n",
       "      <td>1.000000e+04</td>\n",
       "      <td>10000.000000</td>\n",
       "      <td>10000.000000</td>\n",
       "      <td>10000.000000</td>\n",
       "      <td>10000.000000</td>\n",
       "    </tr>\n",
       "    <tr>\n",
       "      <th>mean</th>\n",
       "      <td>175.529987</td>\n",
       "      <td>14.836148</td>\n",
       "      <td>18.619355</td>\n",
       "      <td>17.371931</td>\n",
       "      <td>16.840963</td>\n",
       "      <td>16.583579</td>\n",
       "      <td>16.422833</td>\n",
       "      <td>981.034800</td>\n",
       "      <td>3.648700</td>\n",
       "      <td>302.380100</td>\n",
       "      <td>1.645022e+18</td>\n",
       "      <td>0.143726</td>\n",
       "      <td>1460.986400</td>\n",
       "      <td>52943.533300</td>\n",
       "      <td>353.069400</td>\n",
       "    </tr>\n",
       "    <tr>\n",
       "      <th>std</th>\n",
       "      <td>47.783439</td>\n",
       "      <td>25.212207</td>\n",
       "      <td>0.828656</td>\n",
       "      <td>0.945457</td>\n",
       "      <td>1.067764</td>\n",
       "      <td>1.141805</td>\n",
       "      <td>1.203188</td>\n",
       "      <td>273.305024</td>\n",
       "      <td>1.666183</td>\n",
       "      <td>162.577763</td>\n",
       "      <td>2.013998e+18</td>\n",
       "      <td>0.388774</td>\n",
       "      <td>1788.778371</td>\n",
       "      <td>1511.150651</td>\n",
       "      <td>206.298149</td>\n",
       "    </tr>\n",
       "    <tr>\n",
       "      <th>min</th>\n",
       "      <td>8.235100</td>\n",
       "      <td>-5.382632</td>\n",
       "      <td>12.988970</td>\n",
       "      <td>12.799550</td>\n",
       "      <td>12.431600</td>\n",
       "      <td>11.947210</td>\n",
       "      <td>11.610410</td>\n",
       "      <td>308.000000</td>\n",
       "      <td>1.000000</td>\n",
       "      <td>11.000000</td>\n",
       "      <td>2.995780e+17</td>\n",
       "      <td>-0.004136</td>\n",
       "      <td>266.000000</td>\n",
       "      <td>51578.000000</td>\n",
       "      <td>1.000000</td>\n",
       "    </tr>\n",
       "    <tr>\n",
       "      <th>25%</th>\n",
       "      <td>157.370946</td>\n",
       "      <td>-0.539035</td>\n",
       "      <td>18.178035</td>\n",
       "      <td>16.815100</td>\n",
       "      <td>16.173333</td>\n",
       "      <td>15.853705</td>\n",
       "      <td>15.618285</td>\n",
       "      <td>752.000000</td>\n",
       "      <td>2.000000</td>\n",
       "      <td>184.000000</td>\n",
       "      <td>3.389248e+17</td>\n",
       "      <td>0.000081</td>\n",
       "      <td>301.000000</td>\n",
       "      <td>51900.000000</td>\n",
       "      <td>186.750000</td>\n",
       "    </tr>\n",
       "    <tr>\n",
       "      <th>50%</th>\n",
       "      <td>180.394514</td>\n",
       "      <td>0.404166</td>\n",
       "      <td>18.853095</td>\n",
       "      <td>17.495135</td>\n",
       "      <td>16.858770</td>\n",
       "      <td>16.554985</td>\n",
       "      <td>16.389945</td>\n",
       "      <td>756.000000</td>\n",
       "      <td>4.000000</td>\n",
       "      <td>299.000000</td>\n",
       "      <td>4.966580e+17</td>\n",
       "      <td>0.042591</td>\n",
       "      <td>441.000000</td>\n",
       "      <td>51997.000000</td>\n",
       "      <td>351.000000</td>\n",
       "    </tr>\n",
       "    <tr>\n",
       "      <th>75%</th>\n",
       "      <td>201.547279</td>\n",
       "      <td>35.649397</td>\n",
       "      <td>19.259232</td>\n",
       "      <td>18.010145</td>\n",
       "      <td>17.512675</td>\n",
       "      <td>17.258550</td>\n",
       "      <td>17.141447</td>\n",
       "      <td>1331.000000</td>\n",
       "      <td>5.000000</td>\n",
       "      <td>414.000000</td>\n",
       "      <td>2.881300e+18</td>\n",
       "      <td>0.092579</td>\n",
       "      <td>2559.000000</td>\n",
       "      <td>54468.000000</td>\n",
       "      <td>510.000000</td>\n",
       "    </tr>\n",
       "    <tr>\n",
       "      <th>max</th>\n",
       "      <td>260.884382</td>\n",
       "      <td>68.542265</td>\n",
       "      <td>19.599900</td>\n",
       "      <td>19.918970</td>\n",
       "      <td>24.802040</td>\n",
       "      <td>28.179630</td>\n",
       "      <td>22.833060</td>\n",
       "      <td>1412.000000</td>\n",
       "      <td>6.000000</td>\n",
       "      <td>768.000000</td>\n",
       "      <td>9.468830e+18</td>\n",
       "      <td>5.353854</td>\n",
       "      <td>8410.000000</td>\n",
       "      <td>57481.000000</td>\n",
       "      <td>1000.000000</td>\n",
       "    </tr>\n",
       "  </tbody>\n",
       "</table>\n",
       "</div>"
      ],
      "text/plain": [
       "                 ra           dec             u             g             r  \\\n",
       "count  10000.000000  10000.000000  10000.000000  10000.000000  10000.000000   \n",
       "mean     175.529987     14.836148     18.619355     17.371931     16.840963   \n",
       "std       47.783439     25.212207      0.828656      0.945457      1.067764   \n",
       "min        8.235100     -5.382632     12.988970     12.799550     12.431600   \n",
       "25%      157.370946     -0.539035     18.178035     16.815100     16.173333   \n",
       "50%      180.394514      0.404166     18.853095     17.495135     16.858770   \n",
       "75%      201.547279     35.649397     19.259232     18.010145     17.512675   \n",
       "max      260.884382     68.542265     19.599900     19.918970     24.802040   \n",
       "\n",
       "                  i             z           run        camcol         field  \\\n",
       "count  10000.000000  10000.000000  10000.000000  10000.000000  10000.000000   \n",
       "mean      16.583579     16.422833    981.034800      3.648700    302.380100   \n",
       "std        1.141805      1.203188    273.305024      1.666183    162.577763   \n",
       "min       11.947210     11.610410    308.000000      1.000000     11.000000   \n",
       "25%       15.853705     15.618285    752.000000      2.000000    184.000000   \n",
       "50%       16.554985     16.389945    756.000000      4.000000    299.000000   \n",
       "75%       17.258550     17.141447   1331.000000      5.000000    414.000000   \n",
       "max       28.179630     22.833060   1412.000000      6.000000    768.000000   \n",
       "\n",
       "          specobjid      redshift         plate           mjd       fiberid  \n",
       "count  1.000000e+04  10000.000000  10000.000000  10000.000000  10000.000000  \n",
       "mean   1.645022e+18      0.143726   1460.986400  52943.533300    353.069400  \n",
       "std    2.013998e+18      0.388774   1788.778371   1511.150651    206.298149  \n",
       "min    2.995780e+17     -0.004136    266.000000  51578.000000      1.000000  \n",
       "25%    3.389248e+17      0.000081    301.000000  51900.000000    186.750000  \n",
       "50%    4.966580e+17      0.042591    441.000000  51997.000000    351.000000  \n",
       "75%    2.881300e+18      0.092579   2559.000000  54468.000000    510.000000  \n",
       "max    9.468830e+18      5.353854   8410.000000  57481.000000   1000.000000  "
      ]
     },
     "execution_count": 4,
     "metadata": {},
     "output_type": "execute_result"
    }
   ],
   "source": [
    "data = data.drop('objid', axis = 1)\n",
    "data = data.drop('rerun', axis = 1)\n",
    "data.describe()"
   ]
  },
  {
   "cell_type": "markdown",
   "metadata": {},
   "source": [
    "* В колонке `ra` min отличается больше, чем на 3 std от квантиля 25% и от среднего  - это выброс. Возможно, интенсивность излучения от того же типа объекта изменится из-за взаимодействия лучей с земной атмосферой, но в этом не должно быть ничего страшного. То же самое с колонкой `dec`.\n",
    "* В значениях `u, g, r, i, z, redshift` есть выбросы величиной в несколько стандартных отклонений (мы увидим их на графике двумя ячейками ниже, и заметим, что эти выбросы нескоррелированы по разным каналам. Это может объясняться как химическим составом астрономических объектов, так и аппаратными ошибками)\n",
    "* В поле `specobjid` лежат очень большие значения с большим разбросом - обязательно нужно нормализовать"
   ]
  },
  {
   "cell_type": "markdown",
   "metadata": {},
   "source": [
    "**Балансировка классов:**"
   ]
  },
  {
   "cell_type": "code",
   "execution_count": 5,
   "metadata": {},
   "outputs": [
    {
     "name": "stdout",
     "output_type": "stream",
     "text": [
      "STAR 4152\n",
      "GALAXY 4998\n",
      "QSO 850\n"
     ]
    }
   ],
   "source": [
    "for cl in data['class'].unique():\n",
    "    print(cl, len(data.loc[data['class']==cl]))\n"
   ]
  },
  {
   "cell_type": "code",
   "execution_count": 6,
   "metadata": {},
   "outputs": [
    {
     "data": {
      "image/png": "[encoded data removed]",
      "text/plain": [
       "<Figure size 432x288 with 1 Axes>"
      ]
     },
     "metadata": {
      "needs_background": "light"
     },
     "output_type": "display_data"
    },
    {
     "data": {
      "image/png": "[encoded data removed]",
      "text/plain": [
       "<Figure size 432x288 with 1 Axes>"
      ]
     },
     "metadata": {
      "needs_background": "light"
     },
     "output_type": "display_data"
    },
    {
     "data": {
      "image/png": "[encoded data removed]",
      "text/plain": [
       "<Figure size 432x288 with 1 Axes>"
      ]
     },
     "metadata": {
      "needs_background": "light"
     },
     "output_type": "display_data"
    },
    {
     "data": {
      "image/png": "[encoded data removed]",
      "text/plain": [
       "<Figure size 432x288 with 1 Axes>"
      ]
     },
     "metadata": {
      "needs_background": "light"
     },
     "output_type": "display_data"
    },
    {
     "data": {
      "image/png": "[encoded data removed]",
      "text/plain": [
       "<Figure size 432x288 with 1 Axes>"
      ]
     },
     "metadata": {
      "needs_background": "light"
     },
     "output_type": "display_data"
    },
    {
     "data": {
      "image/png": "[encoded data removed]",
      "text/plain": [
       "<Figure size 432x288 with 1 Axes>"
      ]
     },
     "metadata": {
      "needs_background": "light"
     },
     "output_type": "display_data"
    },
    {
     "data": {
      "image/png": "[encoded data removed]",
      "text/plain": [
       "<Figure size 432x288 with 1 Axes>"
      ]
     },
     "metadata": {
      "needs_background": "light"
     },
     "output_type": "display_data"
    },
    {
     "data": {
      "image/png": "[encoded data removed]",
      "text/plain": [
       "<Figure size 432x288 with 1 Axes>"
      ]
     },
     "metadata": {
      "needs_background": "light"
     },
     "output_type": "display_data"
    },
    {
     "data": {
      "image/png": "[encoded data removed]",
      "text/plain": [
       "<Figure size 432x288 with 1 Axes>"
      ]
     },
     "metadata": {
      "needs_background": "light"
     },
     "output_type": "display_data"
    },
    {
     "data": {
      "image/png": "[encoded data removed]",
      "text/plain": [
       "<Figure size 432x288 with 1 Axes>"
      ]
     },
     "metadata": {
      "needs_background": "light"
     },
     "output_type": "display_data"
    },
    {
     "data": {
      "image/png": "[encoded data removed]",
      "text/plain": [
       "<Figure size 432x288 with 1 Axes>"
      ]
     },
     "metadata": {
      "needs_background": "light"
     },
     "output_type": "display_data"
    },
    {
     "data": {
      "image/png": "[encoded data removed]",
      "text/plain": [
       "<Figure size 432x288 with 1 Axes>"
      ]
     },
     "metadata": {
      "needs_background": "light"
     },
     "output_type": "display_data"
    },
    {
     "data": {
      "image/png": "[encoded data removed]",
      "text/plain": [
       "<Figure size 432x288 with 1 Axes>"
      ]
     },
     "metadata": {
      "needs_background": "light"
     },
     "output_type": "display_data"
    },
    {
     "data": {
      "image/png": "[encoded data removed]",
      "text/plain": [
       "<Figure size 432x288 with 1 Axes>"
      ]
     },
     "metadata": {
      "needs_background": "light"
     },
     "output_type": "display_data"
    },
    {
     "data": {
      "image/png": "[encoded data removed]",
      "text/plain": [
       "<Figure size 432x288 with 1 Axes>"
      ]
     },
     "metadata": {
      "needs_background": "light"
     },
     "output_type": "display_data"
    },
    {
     "data": {
      "image/png": "[encoded data removed]",
      "text/plain": [
       "<Figure size 432x288 with 1 Axes>"
      ]
     },
     "metadata": {
      "needs_background": "light"
     },
     "output_type": "display_data"
    }
   ],
   "source": [
    "for column in data.columns:\n",
    "    plt.figure()\n",
    "    plt.title(column)\n",
    "    plt.plot(data[column])"
   ]
  },
  {
   "cell_type": "code",
   "execution_count": 7,
   "metadata": {},
   "outputs": [],
   "source": [
    "def color_big_values_red(val):\n",
    "    color = 'red' if abs(val) > 0.3 else 'black'\n",
    "    return 'color: %s' % color"
   ]
  },
  {
   "cell_type": "code",
   "execution_count": 8,
   "metadata": {},
   "outputs": [
    {
     "data": {
      "text/html": [
       "<style  type=\"text/css\" >\n",
       "    #T_ff07b23e_edeb_11e9_abc2_001e8cf131carow0_col0 {\n",
       "            color:  red;\n",
       "        }    #T_ff07b23e_edeb_11e9_abc2_001e8cf131carow0_col1 {\n",
       "            color:  black;\n",
       "        }    #T_ff07b23e_edeb_11e9_abc2_001e8cf131carow0_col2 {\n",
       "            color:  black;\n",
       "        }    #T_ff07b23e_edeb_11e9_abc2_001e8cf131carow0_col3 {\n",
       "            color:  black;\n",
       "        }    #T_ff07b23e_edeb_11e9_abc2_001e8cf131carow0_col4 {\n",
       "            color:  black;\n",
       "        }    #T_ff07b23e_edeb_11e9_abc2_001e8cf131carow0_col5 {\n",
       "            color:  black;\n",
       "        }    #T_ff07b23e_edeb_11e9_abc2_001e8cf131carow0_col6 {\n",
       "            color:  black;\n",
       "        }    #T_ff07b23e_edeb_11e9_abc2_001e8cf131carow0_col7 {\n",
       "            color:  black;\n",
       "        }    #T_ff07b23e_edeb_11e9_abc2_001e8cf131carow0_col8 {\n",
       "            color:  black;\n",
       "        }    #T_ff07b23e_edeb_11e9_abc2_001e8cf131carow0_col9 {\n",
       "            color:  red;\n",
       "        }    #T_ff07b23e_edeb_11e9_abc2_001e8cf131carow0_col10 {\n",
       "            color:  black;\n",
       "        }    #T_ff07b23e_edeb_11e9_abc2_001e8cf131carow0_col11 {\n",
       "            color:  black;\n",
       "        }    #T_ff07b23e_edeb_11e9_abc2_001e8cf131carow0_col12 {\n",
       "            color:  black;\n",
       "        }    #T_ff07b23e_edeb_11e9_abc2_001e8cf131carow0_col13 {\n",
       "            color:  black;\n",
       "        }    #T_ff07b23e_edeb_11e9_abc2_001e8cf131carow0_col14 {\n",
       "            color:  black;\n",
       "        }    #T_ff07b23e_edeb_11e9_abc2_001e8cf131carow1_col0 {\n",
       "            color:  black;\n",
       "        }    #T_ff07b23e_edeb_11e9_abc2_001e8cf131carow1_col1 {\n",
       "            color:  red;\n",
       "        }    #T_ff07b23e_edeb_11e9_abc2_001e8cf131carow1_col2 {\n",
       "            color:  black;\n",
       "        }    #T_ff07b23e_edeb_11e9_abc2_001e8cf131carow1_col3 {\n",
       "            color:  black;\n",
       "        }    #T_ff07b23e_edeb_11e9_abc2_001e8cf131carow1_col4 {\n",
       "            color:  black;\n",
       "        }    #T_ff07b23e_edeb_11e9_abc2_001e8cf131carow1_col5 {\n",
       "            color:  black;\n",
       "        }    #T_ff07b23e_edeb_11e9_abc2_001e8cf131carow1_col6 {\n",
       "            color:  black;\n",
       "        }    #T_ff07b23e_edeb_11e9_abc2_001e8cf131carow1_col7 {\n",
       "            color:  red;\n",
       "        }    #T_ff07b23e_edeb_11e9_abc2_001e8cf131carow1_col8 {\n",
       "            color:  black;\n",
       "        }    #T_ff07b23e_edeb_11e9_abc2_001e8cf131carow1_col9 {\n",
       "            color:  black;\n",
       "        }    #T_ff07b23e_edeb_11e9_abc2_001e8cf131carow1_col10 {\n",
       "            color:  black;\n",
       "        }    #T_ff07b23e_edeb_11e9_abc2_001e8cf131carow1_col11 {\n",
       "            color:  black;\n",
       "        }    #T_ff07b23e_edeb_11e9_abc2_001e8cf131carow1_col12 {\n",
       "            color:  black;\n",
       "        }    #T_ff07b23e_edeb_11e9_abc2_001e8cf131carow1_col13 {\n",
       "            color:  black;\n",
       "        }    #T_ff07b23e_edeb_11e9_abc2_001e8cf131carow1_col14 {\n",
       "            color:  black;\n",
       "        }    #T_ff07b23e_edeb_11e9_abc2_001e8cf131carow2_col0 {\n",
       "            color:  black;\n",
       "        }    #T_ff07b23e_edeb_11e9_abc2_001e8cf131carow2_col1 {\n",
       "            color:  black;\n",
       "        }    #T_ff07b23e_edeb_11e9_abc2_001e8cf131carow2_col2 {\n",
       "            color:  red;\n",
       "        }    #T_ff07b23e_edeb_11e9_abc2_001e8cf131carow2_col3 {\n",
       "            color:  red;\n",
       "        }    #T_ff07b23e_edeb_11e9_abc2_001e8cf131carow2_col4 {\n",
       "            color:  red;\n",
       "        }    #T_ff07b23e_edeb_11e9_abc2_001e8cf131carow2_col5 {\n",
       "            color:  red;\n",
       "        }    #T_ff07b23e_edeb_11e9_abc2_001e8cf131carow2_col6 {\n",
       "            color:  red;\n",
       "        }    #T_ff07b23e_edeb_11e9_abc2_001e8cf131carow2_col7 {\n",
       "            color:  black;\n",
       "        }    #T_ff07b23e_edeb_11e9_abc2_001e8cf131carow2_col8 {\n",
       "            color:  black;\n",
       "        }    #T_ff07b23e_edeb_11e9_abc2_001e8cf131carow2_col9 {\n",
       "            color:  black;\n",
       "        }    #T_ff07b23e_edeb_11e9_abc2_001e8cf131carow2_col10 {\n",
       "            color:  black;\n",
       "        }    #T_ff07b23e_edeb_11e9_abc2_001e8cf131carow2_col11 {\n",
       "            color:  black;\n",
       "        }    #T_ff07b23e_edeb_11e9_abc2_001e8cf131carow2_col12 {\n",
       "            color:  black;\n",
       "        }    #T_ff07b23e_edeb_11e9_abc2_001e8cf131carow2_col13 {\n",
       "            color:  black;\n",
       "        }    #T_ff07b23e_edeb_11e9_abc2_001e8cf131carow2_col14 {\n",
       "            color:  black;\n",
       "        }    #T_ff07b23e_edeb_11e9_abc2_001e8cf131carow3_col0 {\n",
       "            color:  black;\n",
       "        }    #T_ff07b23e_edeb_11e9_abc2_001e8cf131carow3_col1 {\n",
       "            color:  black;\n",
       "        }    #T_ff07b23e_edeb_11e9_abc2_001e8cf131carow3_col2 {\n",
       "            color:  red;\n",
       "        }    #T_ff07b23e_edeb_11e9_abc2_001e8cf131carow3_col3 {\n",
       "            color:  red;\n",
       "        }    #T_ff07b23e_edeb_11e9_abc2_001e8cf131carow3_col4 {\n",
       "            color:  red;\n",
       "        }    #T_ff07b23e_edeb_11e9_abc2_001e8cf131carow3_col5 {\n",
       "            color:  red;\n",
       "        }    #T_ff07b23e_edeb_11e9_abc2_001e8cf131carow3_col6 {\n",
       "            color:  red;\n",
       "        }    #T_ff07b23e_edeb_11e9_abc2_001e8cf131carow3_col7 {\n",
       "            color:  black;\n",
       "        }    #T_ff07b23e_edeb_11e9_abc2_001e8cf131carow3_col8 {\n",
       "            color:  black;\n",
       "        }    #T_ff07b23e_edeb_11e9_abc2_001e8cf131carow3_col9 {\n",
       "            color:  black;\n",
       "        }    #T_ff07b23e_edeb_11e9_abc2_001e8cf131carow3_col10 {\n",
       "            color:  black;\n",
       "        }    #T_ff07b23e_edeb_11e9_abc2_001e8cf131carow3_col11 {\n",
       "            color:  red;\n",
       "        }    #T_ff07b23e_edeb_11e9_abc2_001e8cf131carow3_col12 {\n",
       "            color:  black;\n",
       "        }    #T_ff07b23e_edeb_11e9_abc2_001e8cf131carow3_col13 {\n",
       "            color:  black;\n",
       "        }    #T_ff07b23e_edeb_11e9_abc2_001e8cf131carow3_col14 {\n",
       "            color:  black;\n",
       "        }    #T_ff07b23e_edeb_11e9_abc2_001e8cf131carow4_col0 {\n",
       "            color:  black;\n",
       "        }    #T_ff07b23e_edeb_11e9_abc2_001e8cf131carow4_col1 {\n",
       "            color:  black;\n",
       "        }    #T_ff07b23e_edeb_11e9_abc2_001e8cf131carow4_col2 {\n",
       "            color:  red;\n",
       "        }    #T_ff07b23e_edeb_11e9_abc2_001e8cf131carow4_col3 {\n",
       "            color:  red;\n",
       "        }    #T_ff07b23e_edeb_11e9_abc2_001e8cf131carow4_col4 {\n",
       "            color:  red;\n",
       "        }    #T_ff07b23e_edeb_11e9_abc2_001e8cf131carow4_col5 {\n",
       "            color:  red;\n",
       "        }    #T_ff07b23e_edeb_11e9_abc2_001e8cf131carow4_col6 {\n",
       "            color:  red;\n",
       "        }    #T_ff07b23e_edeb_11e9_abc2_001e8cf131carow4_col7 {\n",
       "            color:  black;\n",
       "        }    #T_ff07b23e_edeb_11e9_abc2_001e8cf131carow4_col8 {\n",
       "            color:  black;\n",
       "        }    #T_ff07b23e_edeb_11e9_abc2_001e8cf131carow4_col9 {\n",
       "            color:  black;\n",
       "        }    #T_ff07b23e_edeb_11e9_abc2_001e8cf131carow4_col10 {\n",
       "            color:  black;\n",
       "        }    #T_ff07b23e_edeb_11e9_abc2_001e8cf131carow4_col11 {\n",
       "            color:  red;\n",
       "        }    #T_ff07b23e_edeb_11e9_abc2_001e8cf131carow4_col12 {\n",
       "            color:  black;\n",
       "        }    #T_ff07b23e_edeb_11e9_abc2_001e8cf131carow4_col13 {\n",
       "            color:  black;\n",
       "        }    #T_ff07b23e_edeb_11e9_abc2_001e8cf131carow4_col14 {\n",
       "            color:  black;\n",
       "        }    #T_ff07b23e_edeb_11e9_abc2_001e8cf131carow5_col0 {\n",
       "            color:  black;\n",
       "        }    #T_ff07b23e_edeb_11e9_abc2_001e8cf131carow5_col1 {\n",
       "            color:  black;\n",
       "        }    #T_ff07b23e_edeb_11e9_abc2_001e8cf131carow5_col2 {\n",
       "            color:  red;\n",
       "        }    #T_ff07b23e_edeb_11e9_abc2_001e8cf131carow5_col3 {\n",
       "            color:  red;\n",
       "        }    #T_ff07b23e_edeb_11e9_abc2_001e8cf131carow5_col4 {\n",
       "            color:  red;\n",
       "        }    #T_ff07b23e_edeb_11e9_abc2_001e8cf131carow5_col5 {\n",
       "            color:  red;\n",
       "        }    #T_ff07b23e_edeb_11e9_abc2_001e8cf131carow5_col6 {\n",
       "            color:  red;\n",
       "        }    #T_ff07b23e_edeb_11e9_abc2_001e8cf131carow5_col7 {\n",
       "            color:  black;\n",
       "        }    #T_ff07b23e_edeb_11e9_abc2_001e8cf131carow5_col8 {\n",
       "            color:  black;\n",
       "        }    #T_ff07b23e_edeb_11e9_abc2_001e8cf131carow5_col9 {\n",
       "            color:  black;\n",
       "        }    #T_ff07b23e_edeb_11e9_abc2_001e8cf131carow5_col10 {\n",
       "            color:  black;\n",
       "        }    #T_ff07b23e_edeb_11e9_abc2_001e8cf131carow5_col11 {\n",
       "            color:  red;\n",
       "        }    #T_ff07b23e_edeb_11e9_abc2_001e8cf131carow5_col12 {\n",
       "            color:  black;\n",
       "        }    #T_ff07b23e_edeb_11e9_abc2_001e8cf131carow5_col13 {\n",
       "            color:  black;\n",
       "        }    #T_ff07b23e_edeb_11e9_abc2_001e8cf131carow5_col14 {\n",
       "            color:  black;\n",
       "        }    #T_ff07b23e_edeb_11e9_abc2_001e8cf131carow6_col0 {\n",
       "            color:  black;\n",
       "        }    #T_ff07b23e_edeb_11e9_abc2_001e8cf131carow6_col1 {\n",
       "            color:  black;\n",
       "        }    #T_ff07b23e_edeb_11e9_abc2_001e8cf131carow6_col2 {\n",
       "            color:  red;\n",
       "        }    #T_ff07b23e_edeb_11e9_abc2_001e8cf131carow6_col3 {\n",
       "            color:  red;\n",
       "        }    #T_ff07b23e_edeb_11e9_abc2_001e8cf131carow6_col4 {\n",
       "            color:  red;\n",
       "        }    #T_ff07b23e_edeb_11e9_abc2_001e8cf131carow6_col5 {\n",
       "            color:  red;\n",
       "        }    #T_ff07b23e_edeb_11e9_abc2_001e8cf131carow6_col6 {\n",
       "            color:  red;\n",
       "        }    #T_ff07b23e_edeb_11e9_abc2_001e8cf131carow6_col7 {\n",
       "            color:  black;\n",
       "        }    #T_ff07b23e_edeb_11e9_abc2_001e8cf131carow6_col8 {\n",
       "            color:  black;\n",
       "        }    #T_ff07b23e_edeb_11e9_abc2_001e8cf131carow6_col9 {\n",
       "            color:  black;\n",
       "        }    #T_ff07b23e_edeb_11e9_abc2_001e8cf131carow6_col10 {\n",
       "            color:  black;\n",
       "        }    #T_ff07b23e_edeb_11e9_abc2_001e8cf131carow6_col11 {\n",
       "            color:  red;\n",
       "        }    #T_ff07b23e_edeb_11e9_abc2_001e8cf131carow6_col12 {\n",
       "            color:  black;\n",
       "        }    #T_ff07b23e_edeb_11e9_abc2_001e8cf131carow6_col13 {\n",
       "            color:  black;\n",
       "        }    #T_ff07b23e_edeb_11e9_abc2_001e8cf131carow6_col14 {\n",
       "            color:  black;\n",
       "        }    #T_ff07b23e_edeb_11e9_abc2_001e8cf131carow7_col0 {\n",
       "            color:  black;\n",
       "        }    #T_ff07b23e_edeb_11e9_abc2_001e8cf131carow7_col1 {\n",
       "            color:  red;\n",
       "        }    #T_ff07b23e_edeb_11e9_abc2_001e8cf131carow7_col2 {\n",
       "            color:  black;\n",
       "        }    #T_ff07b23e_edeb_11e9_abc2_001e8cf131carow7_col3 {\n",
       "            color:  black;\n",
       "        }    #T_ff07b23e_edeb_11e9_abc2_001e8cf131carow7_col4 {\n",
       "            color:  black;\n",
       "        }    #T_ff07b23e_edeb_11e9_abc2_001e8cf131carow7_col5 {\n",
       "            color:  black;\n",
       "        }    #T_ff07b23e_edeb_11e9_abc2_001e8cf131carow7_col6 {\n",
       "            color:  black;\n",
       "        }    #T_ff07b23e_edeb_11e9_abc2_001e8cf131carow7_col7 {\n",
       "            color:  red;\n",
       "        }    #T_ff07b23e_edeb_11e9_abc2_001e8cf131carow7_col8 {\n",
       "            color:  black;\n",
       "        }    #T_ff07b23e_edeb_11e9_abc2_001e8cf131carow7_col9 {\n",
       "            color:  red;\n",
       "        }    #T_ff07b23e_edeb_11e9_abc2_001e8cf131carow7_col10 {\n",
       "            color:  black;\n",
       "        }    #T_ff07b23e_edeb_11e9_abc2_001e8cf131carow7_col11 {\n",
       "            color:  black;\n",
       "        }    #T_ff07b23e_edeb_11e9_abc2_001e8cf131carow7_col12 {\n",
       "            color:  black;\n",
       "        }    #T_ff07b23e_edeb_11e9_abc2_001e8cf131carow7_col13 {\n",
       "            color:  black;\n",
       "        }    #T_ff07b23e_edeb_11e9_abc2_001e8cf131carow7_col14 {\n",
       "            color:  black;\n",
       "        }    #T_ff07b23e_edeb_11e9_abc2_001e8cf131carow8_col0 {\n",
       "            color:  black;\n",
       "        }    #T_ff07b23e_edeb_11e9_abc2_001e8cf131carow8_col1 {\n",
       "            color:  black;\n",
       "        }    #T_ff07b23e_edeb_11e9_abc2_001e8cf131carow8_col2 {\n",
       "            color:  black;\n",
       "        }    #T_ff07b23e_edeb_11e9_abc2_001e8cf131carow8_col3 {\n",
       "            color:  black;\n",
       "        }    #T_ff07b23e_edeb_11e9_abc2_001e8cf131carow8_col4 {\n",
       "            color:  black;\n",
       "        }    #T_ff07b23e_edeb_11e9_abc2_001e8cf131carow8_col5 {\n",
       "            color:  black;\n",
       "        }    #T_ff07b23e_edeb_11e9_abc2_001e8cf131carow8_col6 {\n",
       "            color:  black;\n",
       "        }    #T_ff07b23e_edeb_11e9_abc2_001e8cf131carow8_col7 {\n",
       "            color:  black;\n",
       "        }    #T_ff07b23e_edeb_11e9_abc2_001e8cf131carow8_col8 {\n",
       "            color:  red;\n",
       "        }    #T_ff07b23e_edeb_11e9_abc2_001e8cf131carow8_col9 {\n",
       "            color:  black;\n",
       "        }    #T_ff07b23e_edeb_11e9_abc2_001e8cf131carow8_col10 {\n",
       "            color:  black;\n",
       "        }    #T_ff07b23e_edeb_11e9_abc2_001e8cf131carow8_col11 {\n",
       "            color:  black;\n",
       "        }    #T_ff07b23e_edeb_11e9_abc2_001e8cf131carow8_col12 {\n",
       "            color:  black;\n",
       "        }    #T_ff07b23e_edeb_11e9_abc2_001e8cf131carow8_col13 {\n",
       "            color:  black;\n",
       "        }    #T_ff07b23e_edeb_11e9_abc2_001e8cf131carow8_col14 {\n",
       "            color:  red;\n",
       "        }    #T_ff07b23e_edeb_11e9_abc2_001e8cf131carow9_col0 {\n",
       "            color:  red;\n",
       "        }    #T_ff07b23e_edeb_11e9_abc2_001e8cf131carow9_col1 {\n",
       "            color:  black;\n",
       "        }    #T_ff07b23e_edeb_11e9_abc2_001e8cf131carow9_col2 {\n",
       "            color:  black;\n",
       "        }    #T_ff07b23e_edeb_11e9_abc2_001e8cf131carow9_col3 {\n",
       "            color:  black;\n",
       "        }    #T_ff07b23e_edeb_11e9_abc2_001e8cf131carow9_col4 {\n",
       "            color:  black;\n",
       "        }    #T_ff07b23e_edeb_11e9_abc2_001e8cf131carow9_col5 {\n",
       "            color:  black;\n",
       "        }    #T_ff07b23e_edeb_11e9_abc2_001e8cf131carow9_col6 {\n",
       "            color:  black;\n",
       "        }    #T_ff07b23e_edeb_11e9_abc2_001e8cf131carow9_col7 {\n",
       "            color:  red;\n",
       "        }    #T_ff07b23e_edeb_11e9_abc2_001e8cf131carow9_col8 {\n",
       "            color:  black;\n",
       "        }    #T_ff07b23e_edeb_11e9_abc2_001e8cf131carow9_col9 {\n",
       "            color:  red;\n",
       "        }    #T_ff07b23e_edeb_11e9_abc2_001e8cf131carow9_col10 {\n",
       "            color:  black;\n",
       "        }    #T_ff07b23e_edeb_11e9_abc2_001e8cf131carow9_col11 {\n",
       "            color:  black;\n",
       "        }    #T_ff07b23e_edeb_11e9_abc2_001e8cf131carow9_col12 {\n",
       "            color:  black;\n",
       "        }    #T_ff07b23e_edeb_11e9_abc2_001e8cf131carow9_col13 {\n",
       "            color:  black;\n",
       "        }    #T_ff07b23e_edeb_11e9_abc2_001e8cf131carow9_col14 {\n",
       "            color:  black;\n",
       "        }    #T_ff07b23e_edeb_11e9_abc2_001e8cf131carow10_col0 {\n",
       "            color:  black;\n",
       "        }    #T_ff07b23e_edeb_11e9_abc2_001e8cf131carow10_col1 {\n",
       "            color:  black;\n",
       "        }    #T_ff07b23e_edeb_11e9_abc2_001e8cf131carow10_col2 {\n",
       "            color:  black;\n",
       "        }    #T_ff07b23e_edeb_11e9_abc2_001e8cf131carow10_col3 {\n",
       "            color:  black;\n",
       "        }    #T_ff07b23e_edeb_11e9_abc2_001e8cf131carow10_col4 {\n",
       "            color:  black;\n",
       "        }    #T_ff07b23e_edeb_11e9_abc2_001e8cf131carow10_col5 {\n",
       "            color:  black;\n",
       "        }    #T_ff07b23e_edeb_11e9_abc2_001e8cf131carow10_col6 {\n",
       "            color:  black;\n",
       "        }    #T_ff07b23e_edeb_11e9_abc2_001e8cf131carow10_col7 {\n",
       "            color:  black;\n",
       "        }    #T_ff07b23e_edeb_11e9_abc2_001e8cf131carow10_col8 {\n",
       "            color:  black;\n",
       "        }    #T_ff07b23e_edeb_11e9_abc2_001e8cf131carow10_col9 {\n",
       "            color:  black;\n",
       "        }    #T_ff07b23e_edeb_11e9_abc2_001e8cf131carow10_col10 {\n",
       "            color:  red;\n",
       "        }    #T_ff07b23e_edeb_11e9_abc2_001e8cf131carow10_col11 {\n",
       "            color:  black;\n",
       "        }    #T_ff07b23e_edeb_11e9_abc2_001e8cf131carow10_col12 {\n",
       "            color:  red;\n",
       "        }    #T_ff07b23e_edeb_11e9_abc2_001e8cf131carow10_col13 {\n",
       "            color:  red;\n",
       "        }    #T_ff07b23e_edeb_11e9_abc2_001e8cf131carow10_col14 {\n",
       "            color:  black;\n",
       "        }    #T_ff07b23e_edeb_11e9_abc2_001e8cf131carow11_col0 {\n",
       "            color:  black;\n",
       "        }    #T_ff07b23e_edeb_11e9_abc2_001e8cf131carow11_col1 {\n",
       "            color:  black;\n",
       "        }    #T_ff07b23e_edeb_11e9_abc2_001e8cf131carow11_col2 {\n",
       "            color:  black;\n",
       "        }    #T_ff07b23e_edeb_11e9_abc2_001e8cf131carow11_col3 {\n",
       "            color:  red;\n",
       "        }    #T_ff07b23e_edeb_11e9_abc2_001e8cf131carow11_col4 {\n",
       "            color:  red;\n",
       "        }    #T_ff07b23e_edeb_11e9_abc2_001e8cf131carow11_col5 {\n",
       "            color:  red;\n",
       "        }    #T_ff07b23e_edeb_11e9_abc2_001e8cf131carow11_col6 {\n",
       "            color:  red;\n",
       "        }    #T_ff07b23e_edeb_11e9_abc2_001e8cf131carow11_col7 {\n",
       "            color:  black;\n",
       "        }    #T_ff07b23e_edeb_11e9_abc2_001e8cf131carow11_col8 {\n",
       "            color:  black;\n",
       "        }    #T_ff07b23e_edeb_11e9_abc2_001e8cf131carow11_col9 {\n",
       "            color:  black;\n",
       "        }    #T_ff07b23e_edeb_11e9_abc2_001e8cf131carow11_col10 {\n",
       "            color:  black;\n",
       "        }    #T_ff07b23e_edeb_11e9_abc2_001e8cf131carow11_col11 {\n",
       "            color:  red;\n",
       "        }    #T_ff07b23e_edeb_11e9_abc2_001e8cf131carow11_col12 {\n",
       "            color:  black;\n",
       "        }    #T_ff07b23e_edeb_11e9_abc2_001e8cf131carow11_col13 {\n",
       "            color:  black;\n",
       "        }    #T_ff07b23e_edeb_11e9_abc2_001e8cf131carow11_col14 {\n",
       "            color:  black;\n",
       "        }    #T_ff07b23e_edeb_11e9_abc2_001e8cf131carow12_col0 {\n",
       "            color:  black;\n",
       "        }    #T_ff07b23e_edeb_11e9_abc2_001e8cf131carow12_col1 {\n",
       "            color:  black;\n",
       "        }    #T_ff07b23e_edeb_11e9_abc2_001e8cf131carow12_col2 {\n",
       "            color:  black;\n",
       "        }    #T_ff07b23e_edeb_11e9_abc2_001e8cf131carow12_col3 {\n",
       "            color:  black;\n",
       "        }    #T_ff07b23e_edeb_11e9_abc2_001e8cf131carow12_col4 {\n",
       "            color:  black;\n",
       "        }    #T_ff07b23e_edeb_11e9_abc2_001e8cf131carow12_col5 {\n",
       "            color:  black;\n",
       "        }    #T_ff07b23e_edeb_11e9_abc2_001e8cf131carow12_col6 {\n",
       "            color:  black;\n",
       "        }    #T_ff07b23e_edeb_11e9_abc2_001e8cf131carow12_col7 {\n",
       "            color:  black;\n",
       "        }    #T_ff07b23e_edeb_11e9_abc2_001e8cf131carow12_col8 {\n",
       "            color:  black;\n",
       "        }    #T_ff07b23e_edeb_11e9_abc2_001e8cf131carow12_col9 {\n",
       "            color:  black;\n",
       "        }    #T_ff07b23e_edeb_11e9_abc2_001e8cf131carow12_col10 {\n",
       "            color:  red;\n",
       "        }    #T_ff07b23e_edeb_11e9_abc2_001e8cf131carow12_col11 {\n",
       "            color:  black;\n",
       "        }    #T_ff07b23e_edeb_11e9_abc2_001e8cf131carow12_col12 {\n",
       "            color:  red;\n",
       "        }    #T_ff07b23e_edeb_11e9_abc2_001e8cf131carow12_col13 {\n",
       "            color:  red;\n",
       "        }    #T_ff07b23e_edeb_11e9_abc2_001e8cf131carow12_col14 {\n",
       "            color:  black;\n",
       "        }    #T_ff07b23e_edeb_11e9_abc2_001e8cf131carow13_col0 {\n",
       "            color:  black;\n",
       "        }    #T_ff07b23e_edeb_11e9_abc2_001e8cf131carow13_col1 {\n",
       "            color:  black;\n",
       "        }    #T_ff07b23e_edeb_11e9_abc2_001e8cf131carow13_col2 {\n",
       "            color:  black;\n",
       "        }    #T_ff07b23e_edeb_11e9_abc2_001e8cf131carow13_col3 {\n",
       "            color:  black;\n",
       "        }    #T_ff07b23e_edeb_11e9_abc2_001e8cf131carow13_col4 {\n",
       "            color:  black;\n",
       "        }    #T_ff07b23e_edeb_11e9_abc2_001e8cf131carow13_col5 {\n",
       "            color:  black;\n",
       "        }    #T_ff07b23e_edeb_11e9_abc2_001e8cf131carow13_col6 {\n",
       "            color:  black;\n",
       "        }    #T_ff07b23e_edeb_11e9_abc2_001e8cf131carow13_col7 {\n",
       "            color:  black;\n",
       "        }    #T_ff07b23e_edeb_11e9_abc2_001e8cf131carow13_col8 {\n",
       "            color:  black;\n",
       "        }    #T_ff07b23e_edeb_11e9_abc2_001e8cf131carow13_col9 {\n",
       "            color:  black;\n",
       "        }    #T_ff07b23e_edeb_11e9_abc2_001e8cf131carow13_col10 {\n",
       "            color:  red;\n",
       "        }    #T_ff07b23e_edeb_11e9_abc2_001e8cf131carow13_col11 {\n",
       "            color:  black;\n",
       "        }    #T_ff07b23e_edeb_11e9_abc2_001e8cf131carow13_col12 {\n",
       "            color:  red;\n",
       "        }    #T_ff07b23e_edeb_11e9_abc2_001e8cf131carow13_col13 {\n",
       "            color:  red;\n",
       "        }    #T_ff07b23e_edeb_11e9_abc2_001e8cf131carow13_col14 {\n",
       "            color:  black;\n",
       "        }    #T_ff07b23e_edeb_11e9_abc2_001e8cf131carow14_col0 {\n",
       "            color:  black;\n",
       "        }    #T_ff07b23e_edeb_11e9_abc2_001e8cf131carow14_col1 {\n",
       "            color:  black;\n",
       "        }    #T_ff07b23e_edeb_11e9_abc2_001e8cf131carow14_col2 {\n",
       "            color:  black;\n",
       "        }    #T_ff07b23e_edeb_11e9_abc2_001e8cf131carow14_col3 {\n",
       "            color:  black;\n",
       "        }    #T_ff07b23e_edeb_11e9_abc2_001e8cf131carow14_col4 {\n",
       "            color:  black;\n",
       "        }    #T_ff07b23e_edeb_11e9_abc2_001e8cf131carow14_col5 {\n",
       "            color:  black;\n",
       "        }    #T_ff07b23e_edeb_11e9_abc2_001e8cf131carow14_col6 {\n",
       "            color:  black;\n",
       "        }    #T_ff07b23e_edeb_11e9_abc2_001e8cf131carow14_col7 {\n",
       "            color:  black;\n",
       "        }    #T_ff07b23e_edeb_11e9_abc2_001e8cf131carow14_col8 {\n",
       "            color:  red;\n",
       "        }    #T_ff07b23e_edeb_11e9_abc2_001e8cf131carow14_col9 {\n",
       "            color:  black;\n",
       "        }    #T_ff07b23e_edeb_11e9_abc2_001e8cf131carow14_col10 {\n",
       "            color:  black;\n",
       "        }    #T_ff07b23e_edeb_11e9_abc2_001e8cf131carow14_col11 {\n",
       "            color:  black;\n",
       "        }    #T_ff07b23e_edeb_11e9_abc2_001e8cf131carow14_col12 {\n",
       "            color:  black;\n",
       "        }    #T_ff07b23e_edeb_11e9_abc2_001e8cf131carow14_col13 {\n",
       "            color:  black;\n",
       "        }    #T_ff07b23e_edeb_11e9_abc2_001e8cf131carow14_col14 {\n",
       "            color:  red;\n",
       "        }</style><table id=\"T_ff07b23e_edeb_11e9_abc2_001e8cf131ca\" ><thead>    <tr>        <th class=\"blank level0\" ></th>        <th class=\"col_heading level0 col0\" >ra</th>        <th class=\"col_heading level0 col1\" >dec</th>        <th class=\"col_heading level0 col2\" >u</th>        <th class=\"col_heading level0 col3\" >g</th>        <th class=\"col_heading level0 col4\" >r</th>        <th class=\"col_heading level0 col5\" >i</th>        <th class=\"col_heading level0 col6\" >z</th>        <th class=\"col_heading level0 col7\" >run</th>        <th class=\"col_heading level0 col8\" >camcol</th>        <th class=\"col_heading level0 col9\" >field</th>        <th class=\"col_heading level0 col10\" >specobjid</th>        <th class=\"col_heading level0 col11\" >redshift</th>        <th class=\"col_heading level0 col12\" >plate</th>        <th class=\"col_heading level0 col13\" >mjd</th>        <th class=\"col_heading level0 col14\" >fiberid</th>    </tr></thead><tbody>\n",
       "                <tr>\n",
       "                        <th id=\"T_ff07b23e_edeb_11e9_abc2_001e8cf131calevel0_row0\" class=\"row_heading level0 row0\" >ra</th>\n",
       "                        <td id=\"T_ff07b23e_edeb_11e9_abc2_001e8cf131carow0_col0\" class=\"data row0 col0\" >1</td>\n",
       "                        <td id=\"T_ff07b23e_edeb_11e9_abc2_001e8cf131carow0_col1\" class=\"data row0 col1\" >0.00359605</td>\n",
       "                        <td id=\"T_ff07b23e_edeb_11e9_abc2_001e8cf131carow0_col2\" class=\"data row0 col2\" >0.0312376</td>\n",
       "                        <td id=\"T_ff07b23e_edeb_11e9_abc2_001e8cf131carow0_col3\" class=\"data row0 col3\" >0.0439086</td>\n",
       "                        <td id=\"T_ff07b23e_edeb_11e9_abc2_001e8cf131carow0_col4\" class=\"data row0 col4\" >0.0471029</td>\n",
       "                        <td id=\"T_ff07b23e_edeb_11e9_abc2_001e8cf131carow0_col5\" class=\"data row0 col5\" >0.0457311</td>\n",
       "                        <td id=\"T_ff07b23e_edeb_11e9_abc2_001e8cf131carow0_col6\" class=\"data row0 col6\" >0.0429496</td>\n",
       "                        <td id=\"T_ff07b23e_edeb_11e9_abc2_001e8cf131carow0_col7\" class=\"data row0 col7\" >-0.0927406</td>\n",
       "                        <td id=\"T_ff07b23e_edeb_11e9_abc2_001e8cf131carow0_col8\" class=\"data row0 col8\" >-0.00629383</td>\n",
       "                        <td id=\"T_ff07b23e_edeb_11e9_abc2_001e8cf131carow0_col9\" class=\"data row0 col9\" >0.5947</td>\n",
       "                        <td id=\"T_ff07b23e_edeb_11e9_abc2_001e8cf131carow0_col10\" class=\"data row0 col10\" >-0.0953271</td>\n",
       "                        <td id=\"T_ff07b23e_edeb_11e9_abc2_001e8cf131carow0_col11\" class=\"data row0 col11\" >0.0303074</td>\n",
       "                        <td id=\"T_ff07b23e_edeb_11e9_abc2_001e8cf131carow0_col12\" class=\"data row0 col12\" >-0.0953293</td>\n",
       "                        <td id=\"T_ff07b23e_edeb_11e9_abc2_001e8cf131carow0_col13\" class=\"data row0 col13\" >-0.0868873</td>\n",
       "                        <td id=\"T_ff07b23e_edeb_11e9_abc2_001e8cf131carow0_col14\" class=\"data row0 col14\" >0.0574848</td>\n",
       "            </tr>\n",
       "            <tr>\n",
       "                        <th id=\"T_ff07b23e_edeb_11e9_abc2_001e8cf131calevel0_row1\" class=\"row_heading level0 row1\" >dec</th>\n",
       "                        <td id=\"T_ff07b23e_edeb_11e9_abc2_001e8cf131carow1_col0\" class=\"data row1 col0\" >0.00359605</td>\n",
       "                        <td id=\"T_ff07b23e_edeb_11e9_abc2_001e8cf131carow1_col1\" class=\"data row1 col1\" >1</td>\n",
       "                        <td id=\"T_ff07b23e_edeb_11e9_abc2_001e8cf131carow1_col2\" class=\"data row1 col2\" >0.0352793</td>\n",
       "                        <td id=\"T_ff07b23e_edeb_11e9_abc2_001e8cf131carow1_col3\" class=\"data row1 col3\" >0.0618747</td>\n",
       "                        <td id=\"T_ff07b23e_edeb_11e9_abc2_001e8cf131carow1_col4\" class=\"data row1 col4\" >0.063404</td>\n",
       "                        <td id=\"T_ff07b23e_edeb_11e9_abc2_001e8cf131carow1_col5\" class=\"data row1 col5\" >0.0582919</td>\n",
       "                        <td id=\"T_ff07b23e_edeb_11e9_abc2_001e8cf131carow1_col6\" class=\"data row1 col6\" >0.0568703</td>\n",
       "                        <td id=\"T_ff07b23e_edeb_11e9_abc2_001e8cf131carow1_col7\" class=\"data row1 col7\" >0.778385</td>\n",
       "                        <td id=\"T_ff07b23e_edeb_11e9_abc2_001e8cf131carow1_col8\" class=\"data row1 col8\" >0.114614</td>\n",
       "                        <td id=\"T_ff07b23e_edeb_11e9_abc2_001e8cf131carow1_col9\" class=\"data row1 col9\" >-0.131471</td>\n",
       "                        <td id=\"T_ff07b23e_edeb_11e9_abc2_001e8cf131carow1_col10\" class=\"data row1 col10\" >0.0883453</td>\n",
       "                        <td id=\"T_ff07b23e_edeb_11e9_abc2_001e8cf131carow1_col11\" class=\"data row1 col11\" >0.0670208</td>\n",
       "                        <td id=\"T_ff07b23e_edeb_11e9_abc2_001e8cf131carow1_col12\" class=\"data row1 col12\" >0.0883415</td>\n",
       "                        <td id=\"T_ff07b23e_edeb_11e9_abc2_001e8cf131carow1_col13\" class=\"data row1 col13\" >0.0661466</td>\n",
       "                        <td id=\"T_ff07b23e_edeb_11e9_abc2_001e8cf131carow1_col14\" class=\"data row1 col14\" >0.155012</td>\n",
       "            </tr>\n",
       "            <tr>\n",
       "                        <th id=\"T_ff07b23e_edeb_11e9_abc2_001e8cf131calevel0_row2\" class=\"row_heading level0 row2\" >u</th>\n",
       "                        <td id=\"T_ff07b23e_edeb_11e9_abc2_001e8cf131carow2_col0\" class=\"data row2 col0\" >0.0312376</td>\n",
       "                        <td id=\"T_ff07b23e_edeb_11e9_abc2_001e8cf131carow2_col1\" class=\"data row2 col1\" >0.0352793</td>\n",
       "                        <td id=\"T_ff07b23e_edeb_11e9_abc2_001e8cf131carow2_col2\" class=\"data row2 col2\" >1</td>\n",
       "                        <td id=\"T_ff07b23e_edeb_11e9_abc2_001e8cf131carow2_col3\" class=\"data row2 col3\" >0.849232</td>\n",
       "                        <td id=\"T_ff07b23e_edeb_11e9_abc2_001e8cf131carow2_col4\" class=\"data row2 col4\" >0.692379</td>\n",
       "                        <td id=\"T_ff07b23e_edeb_11e9_abc2_001e8cf131carow2_col5\" class=\"data row2 col5\" >0.60263</td>\n",
       "                        <td id=\"T_ff07b23e_edeb_11e9_abc2_001e8cf131carow2_col6\" class=\"data row2 col6\" >0.551483</td>\n",
       "                        <td id=\"T_ff07b23e_edeb_11e9_abc2_001e8cf131carow2_col7\" class=\"data row2 col7\" >0.0382291</td>\n",
       "                        <td id=\"T_ff07b23e_edeb_11e9_abc2_001e8cf131carow2_col8\" class=\"data row2 col8\" >0.00994467</td>\n",
       "                        <td id=\"T_ff07b23e_edeb_11e9_abc2_001e8cf131carow2_col9\" class=\"data row2 col9\" >0.00854788</td>\n",
       "                        <td id=\"T_ff07b23e_edeb_11e9_abc2_001e8cf131carow2_col10\" class=\"data row2 col10\" >-0.129429</td>\n",
       "                        <td id=\"T_ff07b23e_edeb_11e9_abc2_001e8cf131carow2_col11\" class=\"data row2 col11\" >0.163741</td>\n",
       "                        <td id=\"T_ff07b23e_edeb_11e9_abc2_001e8cf131carow2_col12\" class=\"data row2 col12\" >-0.12943</td>\n",
       "                        <td id=\"T_ff07b23e_edeb_11e9_abc2_001e8cf131carow2_col13\" class=\"data row2 col13\" >-0.168793</td>\n",
       "                        <td id=\"T_ff07b23e_edeb_11e9_abc2_001e8cf131carow2_col14\" class=\"data row2 col14\" >0.0113011</td>\n",
       "            </tr>\n",
       "            <tr>\n",
       "                        <th id=\"T_ff07b23e_edeb_11e9_abc2_001e8cf131calevel0_row3\" class=\"row_heading level0 row3\" >g</th>\n",
       "                        <td id=\"T_ff07b23e_edeb_11e9_abc2_001e8cf131carow3_col0\" class=\"data row3 col0\" >0.0439086</td>\n",
       "                        <td id=\"T_ff07b23e_edeb_11e9_abc2_001e8cf131carow3_col1\" class=\"data row3 col1\" >0.0618747</td>\n",
       "                        <td id=\"T_ff07b23e_edeb_11e9_abc2_001e8cf131carow3_col2\" class=\"data row3 col2\" >0.849232</td>\n",
       "                        <td id=\"T_ff07b23e_edeb_11e9_abc2_001e8cf131carow3_col3\" class=\"data row3 col3\" >1</td>\n",
       "                        <td id=\"T_ff07b23e_edeb_11e9_abc2_001e8cf131carow3_col4\" class=\"data row3 col4\" >0.958106</td>\n",
       "                        <td id=\"T_ff07b23e_edeb_11e9_abc2_001e8cf131carow3_col5\" class=\"data row3 col5\" >0.907419</td>\n",
       "                        <td id=\"T_ff07b23e_edeb_11e9_abc2_001e8cf131carow3_col6\" class=\"data row3 col6\" >0.879622</td>\n",
       "                        <td id=\"T_ff07b23e_edeb_11e9_abc2_001e8cf131carow3_col7\" class=\"data row3 col7\" >0.0584463</td>\n",
       "                        <td id=\"T_ff07b23e_edeb_11e9_abc2_001e8cf131carow3_col8\" class=\"data row3 col8\" >0.010223</td>\n",
       "                        <td id=\"T_ff07b23e_edeb_11e9_abc2_001e8cf131carow3_col9\" class=\"data row3 col9\" >0.0146511</td>\n",
       "                        <td id=\"T_ff07b23e_edeb_11e9_abc2_001e8cf131carow3_col10\" class=\"data row3 col10\" >-0.0549791</td>\n",
       "                        <td id=\"T_ff07b23e_edeb_11e9_abc2_001e8cf131carow3_col11\" class=\"data row3 col11\" >0.407576</td>\n",
       "                        <td id=\"T_ff07b23e_edeb_11e9_abc2_001e8cf131carow3_col12\" class=\"data row3 col12\" >-0.0549808</td>\n",
       "                        <td id=\"T_ff07b23e_edeb_11e9_abc2_001e8cf131carow3_col13\" class=\"data row3 col13\" >-0.0927716</td>\n",
       "                        <td id=\"T_ff07b23e_edeb_11e9_abc2_001e8cf131carow3_col14\" class=\"data row3 col14\" >0.0471874</td>\n",
       "            </tr>\n",
       "            <tr>\n",
       "                        <th id=\"T_ff07b23e_edeb_11e9_abc2_001e8cf131calevel0_row4\" class=\"row_heading level0 row4\" >r</th>\n",
       "                        <td id=\"T_ff07b23e_edeb_11e9_abc2_001e8cf131carow4_col0\" class=\"data row4 col0\" >0.0471029</td>\n",
       "                        <td id=\"T_ff07b23e_edeb_11e9_abc2_001e8cf131carow4_col1\" class=\"data row4 col1\" >0.063404</td>\n",
       "                        <td id=\"T_ff07b23e_edeb_11e9_abc2_001e8cf131carow4_col2\" class=\"data row4 col2\" >0.692379</td>\n",
       "                        <td id=\"T_ff07b23e_edeb_11e9_abc2_001e8cf131carow4_col3\" class=\"data row4 col3\" >0.958106</td>\n",
       "                        <td id=\"T_ff07b23e_edeb_11e9_abc2_001e8cf131carow4_col4\" class=\"data row4 col4\" >1</td>\n",
       "                        <td id=\"T_ff07b23e_edeb_11e9_abc2_001e8cf131carow4_col5\" class=\"data row4 col5\" >0.977672</td>\n",
       "                        <td id=\"T_ff07b23e_edeb_11e9_abc2_001e8cf131carow4_col6\" class=\"data row4 col6\" >0.969197</td>\n",
       "                        <td id=\"T_ff07b23e_edeb_11e9_abc2_001e8cf131carow4_col7\" class=\"data row4 col7\" >0.0572606</td>\n",
       "                        <td id=\"T_ff07b23e_edeb_11e9_abc2_001e8cf131carow4_col8\" class=\"data row4 col8\" >0.0107473</td>\n",
       "                        <td id=\"T_ff07b23e_edeb_11e9_abc2_001e8cf131carow4_col9\" class=\"data row4 col9\" >0.0171329</td>\n",
       "                        <td id=\"T_ff07b23e_edeb_11e9_abc2_001e8cf131carow4_col10\" class=\"data row4 col10\" >0.0197883</td>\n",
       "                        <td id=\"T_ff07b23e_edeb_11e9_abc2_001e8cf131carow4_col11\" class=\"data row4 col11\" >0.44108</td>\n",
       "                        <td id=\"T_ff07b23e_edeb_11e9_abc2_001e8cf131carow4_col12\" class=\"data row4 col12\" >0.0197867</td>\n",
       "                        <td id=\"T_ff07b23e_edeb_11e9_abc2_001e8cf131carow4_col13\" class=\"data row4 col13\" >-0.00934451</td>\n",
       "                        <td id=\"T_ff07b23e_edeb_11e9_abc2_001e8cf131carow4_col14\" class=\"data row4 col14\" >0.0610814</td>\n",
       "            </tr>\n",
       "            <tr>\n",
       "                        <th id=\"T_ff07b23e_edeb_11e9_abc2_001e8cf131calevel0_row5\" class=\"row_heading level0 row5\" >i</th>\n",
       "                        <td id=\"T_ff07b23e_edeb_11e9_abc2_001e8cf131carow5_col0\" class=\"data row5 col0\" >0.0457311</td>\n",
       "                        <td id=\"T_ff07b23e_edeb_11e9_abc2_001e8cf131carow5_col1\" class=\"data row5 col1\" >0.0582919</td>\n",
       "                        <td id=\"T_ff07b23e_edeb_11e9_abc2_001e8cf131carow5_col2\" class=\"data row5 col2\" >0.60263</td>\n",
       "                        <td id=\"T_ff07b23e_edeb_11e9_abc2_001e8cf131carow5_col3\" class=\"data row5 col3\" >0.907419</td>\n",
       "                        <td id=\"T_ff07b23e_edeb_11e9_abc2_001e8cf131carow5_col4\" class=\"data row5 col4\" >0.977672</td>\n",
       "                        <td id=\"T_ff07b23e_edeb_11e9_abc2_001e8cf131carow5_col5\" class=\"data row5 col5\" >1</td>\n",
       "                        <td id=\"T_ff07b23e_edeb_11e9_abc2_001e8cf131carow5_col6\" class=\"data row5 col6\" >0.981507</td>\n",
       "                        <td id=\"T_ff07b23e_edeb_11e9_abc2_001e8cf131carow5_col7\" class=\"data row5 col7\" >0.0497648</td>\n",
       "                        <td id=\"T_ff07b23e_edeb_11e9_abc2_001e8cf131carow5_col8\" class=\"data row5 col8\" >0.0134608</td>\n",
       "                        <td id=\"T_ff07b23e_edeb_11e9_abc2_001e8cf131carow5_col9\" class=\"data row5 col9\" >0.0197815</td>\n",
       "                        <td id=\"T_ff07b23e_edeb_11e9_abc2_001e8cf131carow5_col10\" class=\"data row5 col10\" >0.0729599</td>\n",
       "                        <td id=\"T_ff07b23e_edeb_11e9_abc2_001e8cf131carow5_col11\" class=\"data row5 col11\" >0.43145</td>\n",
       "                        <td id=\"T_ff07b23e_edeb_11e9_abc2_001e8cf131carow5_col12\" class=\"data row5 col12\" >0.0729584</td>\n",
       "                        <td id=\"T_ff07b23e_edeb_11e9_abc2_001e8cf131carow5_col13\" class=\"data row5 col13\" >0.0508962</td>\n",
       "                        <td id=\"T_ff07b23e_edeb_11e9_abc2_001e8cf131carow5_col14\" class=\"data row5 col14\" >0.0699774</td>\n",
       "            </tr>\n",
       "            <tr>\n",
       "                        <th id=\"T_ff07b23e_edeb_11e9_abc2_001e8cf131calevel0_row6\" class=\"row_heading level0 row6\" >z</th>\n",
       "                        <td id=\"T_ff07b23e_edeb_11e9_abc2_001e8cf131carow6_col0\" class=\"data row6 col0\" >0.0429496</td>\n",
       "                        <td id=\"T_ff07b23e_edeb_11e9_abc2_001e8cf131carow6_col1\" class=\"data row6 col1\" >0.0568703</td>\n",
       "                        <td id=\"T_ff07b23e_edeb_11e9_abc2_001e8cf131carow6_col2\" class=\"data row6 col2\" >0.551483</td>\n",
       "                        <td id=\"T_ff07b23e_edeb_11e9_abc2_001e8cf131carow6_col3\" class=\"data row6 col3\" >0.879622</td>\n",
       "                        <td id=\"T_ff07b23e_edeb_11e9_abc2_001e8cf131carow6_col4\" class=\"data row6 col4\" >0.969197</td>\n",
       "                        <td id=\"T_ff07b23e_edeb_11e9_abc2_001e8cf131carow6_col5\" class=\"data row6 col5\" >0.981507</td>\n",
       "                        <td id=\"T_ff07b23e_edeb_11e9_abc2_001e8cf131carow6_col6\" class=\"data row6 col6\" >1</td>\n",
       "                        <td id=\"T_ff07b23e_edeb_11e9_abc2_001e8cf131carow6_col7\" class=\"data row6 col7\" >0.0482523</td>\n",
       "                        <td id=\"T_ff07b23e_edeb_11e9_abc2_001e8cf131carow6_col8\" class=\"data row6 col8\" >0.0109298</td>\n",
       "                        <td id=\"T_ff07b23e_edeb_11e9_abc2_001e8cf131carow6_col9\" class=\"data row6 col9\" >0.0182484</td>\n",
       "                        <td id=\"T_ff07b23e_edeb_11e9_abc2_001e8cf131carow6_col10\" class=\"data row6 col10\" >0.112398</td>\n",
       "                        <td id=\"T_ff07b23e_edeb_11e9_abc2_001e8cf131carow6_col11\" class=\"data row6 col11\" >0.424034</td>\n",
       "                        <td id=\"T_ff07b23e_edeb_11e9_abc2_001e8cf131carow6_col12\" class=\"data row6 col12\" >0.112397</td>\n",
       "                        <td id=\"T_ff07b23e_edeb_11e9_abc2_001e8cf131carow6_col13\" class=\"data row6 col13\" >0.0956584</td>\n",
       "                        <td id=\"T_ff07b23e_edeb_11e9_abc2_001e8cf131carow6_col14\" class=\"data row6 col14\" >0.06798</td>\n",
       "            </tr>\n",
       "            <tr>\n",
       "                        <th id=\"T_ff07b23e_edeb_11e9_abc2_001e8cf131calevel0_row7\" class=\"row_heading level0 row7\" >run</th>\n",
       "                        <td id=\"T_ff07b23e_edeb_11e9_abc2_001e8cf131carow7_col0\" class=\"data row7 col0\" >-0.0927406</td>\n",
       "                        <td id=\"T_ff07b23e_edeb_11e9_abc2_001e8cf131carow7_col1\" class=\"data row7 col1\" >0.778385</td>\n",
       "                        <td id=\"T_ff07b23e_edeb_11e9_abc2_001e8cf131carow7_col2\" class=\"data row7 col2\" >0.0382291</td>\n",
       "                        <td id=\"T_ff07b23e_edeb_11e9_abc2_001e8cf131carow7_col3\" class=\"data row7 col3\" >0.0584463</td>\n",
       "                        <td id=\"T_ff07b23e_edeb_11e9_abc2_001e8cf131carow7_col4\" class=\"data row7 col4\" >0.0572606</td>\n",
       "                        <td id=\"T_ff07b23e_edeb_11e9_abc2_001e8cf131carow7_col5\" class=\"data row7 col5\" >0.0497648</td>\n",
       "                        <td id=\"T_ff07b23e_edeb_11e9_abc2_001e8cf131carow7_col6\" class=\"data row7 col6\" >0.0482523</td>\n",
       "                        <td id=\"T_ff07b23e_edeb_11e9_abc2_001e8cf131carow7_col7\" class=\"data row7 col7\" >1</td>\n",
       "                        <td id=\"T_ff07b23e_edeb_11e9_abc2_001e8cf131carow7_col8\" class=\"data row7 col8\" >0.151814</td>\n",
       "                        <td id=\"T_ff07b23e_edeb_11e9_abc2_001e8cf131carow7_col9\" class=\"data row7 col9\" >-0.463898</td>\n",
       "                        <td id=\"T_ff07b23e_edeb_11e9_abc2_001e8cf131carow7_col10\" class=\"data row7 col10\" >0.0936044</td>\n",
       "                        <td id=\"T_ff07b23e_edeb_11e9_abc2_001e8cf131carow7_col11\" class=\"data row7 col11\" >0.059056</td>\n",
       "                        <td id=\"T_ff07b23e_edeb_11e9_abc2_001e8cf131carow7_col12\" class=\"data row7 col12\" >0.0936011</td>\n",
       "                        <td id=\"T_ff07b23e_edeb_11e9_abc2_001e8cf131carow7_col13\" class=\"data row7 col13\" >0.0703543</td>\n",
       "                        <td id=\"T_ff07b23e_edeb_11e9_abc2_001e8cf131carow7_col14\" class=\"data row7 col14\" >0.138566</td>\n",
       "            </tr>\n",
       "            <tr>\n",
       "                        <th id=\"T_ff07b23e_edeb_11e9_abc2_001e8cf131calevel0_row8\" class=\"row_heading level0 row8\" >camcol</th>\n",
       "                        <td id=\"T_ff07b23e_edeb_11e9_abc2_001e8cf131carow8_col0\" class=\"data row8 col0\" >-0.00629383</td>\n",
       "                        <td id=\"T_ff07b23e_edeb_11e9_abc2_001e8cf131carow8_col1\" class=\"data row8 col1\" >0.114614</td>\n",
       "                        <td id=\"T_ff07b23e_edeb_11e9_abc2_001e8cf131carow8_col2\" class=\"data row8 col2\" >0.00994467</td>\n",
       "                        <td id=\"T_ff07b23e_edeb_11e9_abc2_001e8cf131carow8_col3\" class=\"data row8 col3\" >0.010223</td>\n",
       "                        <td id=\"T_ff07b23e_edeb_11e9_abc2_001e8cf131carow8_col4\" class=\"data row8 col4\" >0.0107473</td>\n",
       "                        <td id=\"T_ff07b23e_edeb_11e9_abc2_001e8cf131carow8_col5\" class=\"data row8 col5\" >0.0134608</td>\n",
       "                        <td id=\"T_ff07b23e_edeb_11e9_abc2_001e8cf131carow8_col6\" class=\"data row8 col6\" >0.0109298</td>\n",
       "                        <td id=\"T_ff07b23e_edeb_11e9_abc2_001e8cf131carow8_col7\" class=\"data row8 col7\" >0.151814</td>\n",
       "                        <td id=\"T_ff07b23e_edeb_11e9_abc2_001e8cf131carow8_col8\" class=\"data row8 col8\" >1</td>\n",
       "                        <td id=\"T_ff07b23e_edeb_11e9_abc2_001e8cf131carow8_col9\" class=\"data row8 col9\" >-0.0679205</td>\n",
       "                        <td id=\"T_ff07b23e_edeb_11e9_abc2_001e8cf131carow8_col10\" class=\"data row8 col10\" >0.0408094</td>\n",
       "                        <td id=\"T_ff07b23e_edeb_11e9_abc2_001e8cf131carow8_col11\" class=\"data row8 col11\" >0.00683354</td>\n",
       "                        <td id=\"T_ff07b23e_edeb_11e9_abc2_001e8cf131carow8_col12\" class=\"data row8 col12\" >0.0407946</td>\n",
       "                        <td id=\"T_ff07b23e_edeb_11e9_abc2_001e8cf131carow8_col13\" class=\"data row8 col13\" >0.026284</td>\n",
       "                        <td id=\"T_ff07b23e_edeb_11e9_abc2_001e8cf131carow8_col14\" class=\"data row8 col14\" >0.535629</td>\n",
       "            </tr>\n",
       "            <tr>\n",
       "                        <th id=\"T_ff07b23e_edeb_11e9_abc2_001e8cf131calevel0_row9\" class=\"row_heading level0 row9\" >field</th>\n",
       "                        <td id=\"T_ff07b23e_edeb_11e9_abc2_001e8cf131carow9_col0\" class=\"data row9 col0\" >0.5947</td>\n",
       "                        <td id=\"T_ff07b23e_edeb_11e9_abc2_001e8cf131carow9_col1\" class=\"data row9 col1\" >-0.131471</td>\n",
       "                        <td id=\"T_ff07b23e_edeb_11e9_abc2_001e8cf131carow9_col2\" class=\"data row9 col2\" >0.00854788</td>\n",
       "                        <td id=\"T_ff07b23e_edeb_11e9_abc2_001e8cf131carow9_col3\" class=\"data row9 col3\" >0.0146511</td>\n",
       "                        <td id=\"T_ff07b23e_edeb_11e9_abc2_001e8cf131carow9_col4\" class=\"data row9 col4\" >0.0171329</td>\n",
       "                        <td id=\"T_ff07b23e_edeb_11e9_abc2_001e8cf131carow9_col5\" class=\"data row9 col5\" >0.0197815</td>\n",
       "                        <td id=\"T_ff07b23e_edeb_11e9_abc2_001e8cf131carow9_col6\" class=\"data row9 col6\" >0.0182484</td>\n",
       "                        <td id=\"T_ff07b23e_edeb_11e9_abc2_001e8cf131carow9_col7\" class=\"data row9 col7\" >-0.463898</td>\n",
       "                        <td id=\"T_ff07b23e_edeb_11e9_abc2_001e8cf131carow9_col8\" class=\"data row9 col8\" >-0.0679205</td>\n",
       "                        <td id=\"T_ff07b23e_edeb_11e9_abc2_001e8cf131carow9_col9\" class=\"data row9 col9\" >1</td>\n",
       "                        <td id=\"T_ff07b23e_edeb_11e9_abc2_001e8cf131carow9_col10\" class=\"data row9 col10\" >-0.0937238</td>\n",
       "                        <td id=\"T_ff07b23e_edeb_11e9_abc2_001e8cf131carow9_col11\" class=\"data row9 col11\" >0.0154136</td>\n",
       "                        <td id=\"T_ff07b23e_edeb_11e9_abc2_001e8cf131carow9_col12\" class=\"data row9 col12\" >-0.0937232</td>\n",
       "                        <td id=\"T_ff07b23e_edeb_11e9_abc2_001e8cf131carow9_col13\" class=\"data row9 col13\" >-0.086558</td>\n",
       "                        <td id=\"T_ff07b23e_edeb_11e9_abc2_001e8cf131carow9_col14\" class=\"data row9 col14\" >-0.0404929</td>\n",
       "            </tr>\n",
       "            <tr>\n",
       "                        <th id=\"T_ff07b23e_edeb_11e9_abc2_001e8cf131calevel0_row10\" class=\"row_heading level0 row10\" >specobjid</th>\n",
       "                        <td id=\"T_ff07b23e_edeb_11e9_abc2_001e8cf131carow10_col0\" class=\"data row10 col0\" >-0.0953271</td>\n",
       "                        <td id=\"T_ff07b23e_edeb_11e9_abc2_001e8cf131carow10_col1\" class=\"data row10 col1\" >0.0883453</td>\n",
       "                        <td id=\"T_ff07b23e_edeb_11e9_abc2_001e8cf131carow10_col2\" class=\"data row10 col2\" >-0.129429</td>\n",
       "                        <td id=\"T_ff07b23e_edeb_11e9_abc2_001e8cf131carow10_col3\" class=\"data row10 col3\" >-0.0549791</td>\n",
       "                        <td id=\"T_ff07b23e_edeb_11e9_abc2_001e8cf131carow10_col4\" class=\"data row10 col4\" >0.0197883</td>\n",
       "                        <td id=\"T_ff07b23e_edeb_11e9_abc2_001e8cf131carow10_col5\" class=\"data row10 col5\" >0.0729599</td>\n",
       "                        <td id=\"T_ff07b23e_edeb_11e9_abc2_001e8cf131carow10_col6\" class=\"data row10 col6\" >0.112398</td>\n",
       "                        <td id=\"T_ff07b23e_edeb_11e9_abc2_001e8cf131carow10_col7\" class=\"data row10 col7\" >0.0936044</td>\n",
       "                        <td id=\"T_ff07b23e_edeb_11e9_abc2_001e8cf131carow10_col8\" class=\"data row10 col8\" >0.0408094</td>\n",
       "                        <td id=\"T_ff07b23e_edeb_11e9_abc2_001e8cf131carow10_col9\" class=\"data row10 col9\" >-0.0937238</td>\n",
       "                        <td id=\"T_ff07b23e_edeb_11e9_abc2_001e8cf131carow10_col10\" class=\"data row10 col10\" >1</td>\n",
       "                        <td id=\"T_ff07b23e_edeb_11e9_abc2_001e8cf131carow10_col11\" class=\"data row10 col11\" >-0.0380899</td>\n",
       "                        <td id=\"T_ff07b23e_edeb_11e9_abc2_001e8cf131carow10_col12\" class=\"data row10 col12\" >1</td>\n",
       "                        <td id=\"T_ff07b23e_edeb_11e9_abc2_001e8cf131carow10_col13\" class=\"data row10 col13\" >0.96688</td>\n",
       "                        <td id=\"T_ff07b23e_edeb_11e9_abc2_001e8cf131carow10_col14\" class=\"data row10 col14\" >0.229837</td>\n",
       "            </tr>\n",
       "            <tr>\n",
       "                        <th id=\"T_ff07b23e_edeb_11e9_abc2_001e8cf131calevel0_row11\" class=\"row_heading level0 row11\" >redshift</th>\n",
       "                        <td id=\"T_ff07b23e_edeb_11e9_abc2_001e8cf131carow11_col0\" class=\"data row11 col0\" >0.0303074</td>\n",
       "                        <td id=\"T_ff07b23e_edeb_11e9_abc2_001e8cf131carow11_col1\" class=\"data row11 col1\" >0.0670208</td>\n",
       "                        <td id=\"T_ff07b23e_edeb_11e9_abc2_001e8cf131carow11_col2\" class=\"data row11 col2\" >0.163741</td>\n",
       "                        <td id=\"T_ff07b23e_edeb_11e9_abc2_001e8cf131carow11_col3\" class=\"data row11 col3\" >0.407576</td>\n",
       "                        <td id=\"T_ff07b23e_edeb_11e9_abc2_001e8cf131carow11_col4\" class=\"data row11 col4\" >0.44108</td>\n",
       "                        <td id=\"T_ff07b23e_edeb_11e9_abc2_001e8cf131carow11_col5\" class=\"data row11 col5\" >0.43145</td>\n",
       "                        <td id=\"T_ff07b23e_edeb_11e9_abc2_001e8cf131carow11_col6\" class=\"data row11 col6\" >0.424034</td>\n",
       "                        <td id=\"T_ff07b23e_edeb_11e9_abc2_001e8cf131carow11_col7\" class=\"data row11 col7\" >0.059056</td>\n",
       "                        <td id=\"T_ff07b23e_edeb_11e9_abc2_001e8cf131carow11_col8\" class=\"data row11 col8\" >0.00683354</td>\n",
       "                        <td id=\"T_ff07b23e_edeb_11e9_abc2_001e8cf131carow11_col9\" class=\"data row11 col9\" >0.0154136</td>\n",
       "                        <td id=\"T_ff07b23e_edeb_11e9_abc2_001e8cf131carow11_col10\" class=\"data row11 col10\" >-0.0380899</td>\n",
       "                        <td id=\"T_ff07b23e_edeb_11e9_abc2_001e8cf131carow11_col11\" class=\"data row11 col11\" >1</td>\n",
       "                        <td id=\"T_ff07b23e_edeb_11e9_abc2_001e8cf131carow11_col12\" class=\"data row11 col12\" >-0.0380915</td>\n",
       "                        <td id=\"T_ff07b23e_edeb_11e9_abc2_001e8cf131carow11_col13\" class=\"data row11 col13\" >-0.0579573</td>\n",
       "                        <td id=\"T_ff07b23e_edeb_11e9_abc2_001e8cf131carow11_col14\" class=\"data row11 col14\" >0.0465322</td>\n",
       "            </tr>\n",
       "            <tr>\n",
       "                        <th id=\"T_ff07b23e_edeb_11e9_abc2_001e8cf131calevel0_row12\" class=\"row_heading level0 row12\" >plate</th>\n",
       "                        <td id=\"T_ff07b23e_edeb_11e9_abc2_001e8cf131carow12_col0\" class=\"data row12 col0\" >-0.0953293</td>\n",
       "                        <td id=\"T_ff07b23e_edeb_11e9_abc2_001e8cf131carow12_col1\" class=\"data row12 col1\" >0.0883415</td>\n",
       "                        <td id=\"T_ff07b23e_edeb_11e9_abc2_001e8cf131carow12_col2\" class=\"data row12 col2\" >-0.12943</td>\n",
       "                        <td id=\"T_ff07b23e_edeb_11e9_abc2_001e8cf131carow12_col3\" class=\"data row12 col3\" >-0.0549808</td>\n",
       "                        <td id=\"T_ff07b23e_edeb_11e9_abc2_001e8cf131carow12_col4\" class=\"data row12 col4\" >0.0197867</td>\n",
       "                        <td id=\"T_ff07b23e_edeb_11e9_abc2_001e8cf131carow12_col5\" class=\"data row12 col5\" >0.0729584</td>\n",
       "                        <td id=\"T_ff07b23e_edeb_11e9_abc2_001e8cf131carow12_col6\" class=\"data row12 col6\" >0.112397</td>\n",
       "                        <td id=\"T_ff07b23e_edeb_11e9_abc2_001e8cf131carow12_col7\" class=\"data row12 col7\" >0.0936011</td>\n",
       "                        <td id=\"T_ff07b23e_edeb_11e9_abc2_001e8cf131carow12_col8\" class=\"data row12 col8\" >0.0407946</td>\n",
       "                        <td id=\"T_ff07b23e_edeb_11e9_abc2_001e8cf131carow12_col9\" class=\"data row12 col9\" >-0.0937232</td>\n",
       "                        <td id=\"T_ff07b23e_edeb_11e9_abc2_001e8cf131carow12_col10\" class=\"data row12 col10\" >1</td>\n",
       "                        <td id=\"T_ff07b23e_edeb_11e9_abc2_001e8cf131carow12_col11\" class=\"data row12 col11\" >-0.0380915</td>\n",
       "                        <td id=\"T_ff07b23e_edeb_11e9_abc2_001e8cf131carow12_col12\" class=\"data row12 col12\" >1</td>\n",
       "                        <td id=\"T_ff07b23e_edeb_11e9_abc2_001e8cf131carow12_col13\" class=\"data row12 col13\" >0.966881</td>\n",
       "                        <td id=\"T_ff07b23e_edeb_11e9_abc2_001e8cf131carow12_col14\" class=\"data row12 col14\" >0.229811</td>\n",
       "            </tr>\n",
       "            <tr>\n",
       "                        <th id=\"T_ff07b23e_edeb_11e9_abc2_001e8cf131calevel0_row13\" class=\"row_heading level0 row13\" >mjd</th>\n",
       "                        <td id=\"T_ff07b23e_edeb_11e9_abc2_001e8cf131carow13_col0\" class=\"data row13 col0\" >-0.0868873</td>\n",
       "                        <td id=\"T_ff07b23e_edeb_11e9_abc2_001e8cf131carow13_col1\" class=\"data row13 col1\" >0.0661466</td>\n",
       "                        <td id=\"T_ff07b23e_edeb_11e9_abc2_001e8cf131carow13_col2\" class=\"data row13 col2\" >-0.168793</td>\n",
       "                        <td id=\"T_ff07b23e_edeb_11e9_abc2_001e8cf131carow13_col3\" class=\"data row13 col3\" >-0.0927716</td>\n",
       "                        <td id=\"T_ff07b23e_edeb_11e9_abc2_001e8cf131carow13_col4\" class=\"data row13 col4\" >-0.00934451</td>\n",
       "                        <td id=\"T_ff07b23e_edeb_11e9_abc2_001e8cf131carow13_col5\" class=\"data row13 col5\" >0.0508962</td>\n",
       "                        <td id=\"T_ff07b23e_edeb_11e9_abc2_001e8cf131carow13_col6\" class=\"data row13 col6\" >0.0956584</td>\n",
       "                        <td id=\"T_ff07b23e_edeb_11e9_abc2_001e8cf131carow13_col7\" class=\"data row13 col7\" >0.0703543</td>\n",
       "                        <td id=\"T_ff07b23e_edeb_11e9_abc2_001e8cf131carow13_col8\" class=\"data row13 col8\" >0.026284</td>\n",
       "                        <td id=\"T_ff07b23e_edeb_11e9_abc2_001e8cf131carow13_col9\" class=\"data row13 col9\" >-0.086558</td>\n",
       "                        <td id=\"T_ff07b23e_edeb_11e9_abc2_001e8cf131carow13_col10\" class=\"data row13 col10\" >0.96688</td>\n",
       "                        <td id=\"T_ff07b23e_edeb_11e9_abc2_001e8cf131carow13_col11\" class=\"data row13 col11\" >-0.0579573</td>\n",
       "                        <td id=\"T_ff07b23e_edeb_11e9_abc2_001e8cf131carow13_col12\" class=\"data row13 col12\" >0.966881</td>\n",
       "                        <td id=\"T_ff07b23e_edeb_11e9_abc2_001e8cf131carow13_col13\" class=\"data row13 col13\" >1</td>\n",
       "                        <td id=\"T_ff07b23e_edeb_11e9_abc2_001e8cf131carow13_col14\" class=\"data row13 col14\" >0.190328</td>\n",
       "            </tr>\n",
       "            <tr>\n",
       "                        <th id=\"T_ff07b23e_edeb_11e9_abc2_001e8cf131calevel0_row14\" class=\"row_heading level0 row14\" >fiberid</th>\n",
       "                        <td id=\"T_ff07b23e_edeb_11e9_abc2_001e8cf131carow14_col0\" class=\"data row14 col0\" >0.0574848</td>\n",
       "                        <td id=\"T_ff07b23e_edeb_11e9_abc2_001e8cf131carow14_col1\" class=\"data row14 col1\" >0.155012</td>\n",
       "                        <td id=\"T_ff07b23e_edeb_11e9_abc2_001e8cf131carow14_col2\" class=\"data row14 col2\" >0.0113011</td>\n",
       "                        <td id=\"T_ff07b23e_edeb_11e9_abc2_001e8cf131carow14_col3\" class=\"data row14 col3\" >0.0471874</td>\n",
       "                        <td id=\"T_ff07b23e_edeb_11e9_abc2_001e8cf131carow14_col4\" class=\"data row14 col4\" >0.0610814</td>\n",
       "                        <td id=\"T_ff07b23e_edeb_11e9_abc2_001e8cf131carow14_col5\" class=\"data row14 col5\" >0.0699774</td>\n",
       "                        <td id=\"T_ff07b23e_edeb_11e9_abc2_001e8cf131carow14_col6\" class=\"data row14 col6\" >0.06798</td>\n",
       "                        <td id=\"T_ff07b23e_edeb_11e9_abc2_001e8cf131carow14_col7\" class=\"data row14 col7\" >0.138566</td>\n",
       "                        <td id=\"T_ff07b23e_edeb_11e9_abc2_001e8cf131carow14_col8\" class=\"data row14 col8\" >0.535629</td>\n",
       "                        <td id=\"T_ff07b23e_edeb_11e9_abc2_001e8cf131carow14_col9\" class=\"data row14 col9\" >-0.0404929</td>\n",
       "                        <td id=\"T_ff07b23e_edeb_11e9_abc2_001e8cf131carow14_col10\" class=\"data row14 col10\" >0.229837</td>\n",
       "                        <td id=\"T_ff07b23e_edeb_11e9_abc2_001e8cf131carow14_col11\" class=\"data row14 col11\" >0.0465322</td>\n",
       "                        <td id=\"T_ff07b23e_edeb_11e9_abc2_001e8cf131carow14_col12\" class=\"data row14 col12\" >0.229811</td>\n",
       "                        <td id=\"T_ff07b23e_edeb_11e9_abc2_001e8cf131carow14_col13\" class=\"data row14 col13\" >0.190328</td>\n",
       "                        <td id=\"T_ff07b23e_edeb_11e9_abc2_001e8cf131carow14_col14\" class=\"data row14 col14\" >1</td>\n",
       "            </tr>\n",
       "    </tbody></table>"
      ],
      "text/plain": [
       "<pandas.io.formats.style.Styler at 0x22d5c57a448>"
      ]
     },
     "execution_count": 8,
     "metadata": {},
     "output_type": "execute_result"
    }
   ],
   "source": [
    "data.corr().style.applymap(color_big_values_red)"
   ]
  },
  {
   "cell_type": "markdown",
   "metadata": {},
   "source": [
    "Можно заметить, что данные в частотных каналах имеют близкий к единице коэффициент корреляции, особенно в соседних каналах. Это и не удивительно, так как спектр излучения объектов, в основном, непрерывный. Это не очень хорошо, так как независимые признаки несли бы в себе больше информации.\n",
    "\n",
    "Можно обнаружить высокие коэффициенты корелляции между колонками с данными об экспериментах, например, `plate` и `mjd` - это означает, что оптические системы меняли по временному графику. Или, например, корелляция параметров `run` и `dec` несет в себе информацию о том, в какой последовательности телескоп сканировал участки неба - это интересно подметить, но нам эти знания, скорее всего, не пригодятся. \n",
    "\n",
    "Также большой коэффициент (0.78) между колонками `dec` и `camcol` - это объясняется особенностями построения телескопа.\n",
    "\n",
    "Интересно подумать, почему с ростом интенсивности растет величина красного смещения (корелляция $\\approx$ 0.4) - возможно, существует физическое объяснение, например, потому что в большинстве случаев максимум спектра излучения лежит в интервале частот, не снимаемых телескопом, и допплеровское смещение сдвигает этот максимум в видимый диапазон. Но утверждать этого наверняка, основываясь на имеющихся данных, нельзя. "
   ]
  },
  {
   "cell_type": "code",
   "execution_count": 9,
   "metadata": {},
   "outputs": [
    {
     "name": "stdout",
     "output_type": "stream",
     "text": [
      "1.0\n"
     ]
    }
   ],
   "source": [
    "print(np.mean(data.values == data.dropna().values))"
   ]
  },
  {
   "cell_type": "markdown",
   "metadata": {},
   "source": [
    "1.0 означает, что пропущенных значений нет"
   ]
  },
  {
   "cell_type": "markdown",
   "metadata": {},
   "source": [
    "*Обработка категориальных признаков*"
   ]
  },
  {
   "cell_type": "code",
   "execution_count": 10,
   "metadata": {},
   "outputs": [
    {
     "data": {
      "text/plain": [
       "count    10000.000000\n",
       "mean         0.669800\n",
       "std          0.625465\n",
       "min          0.000000\n",
       "25%          0.000000\n",
       "50%          1.000000\n",
       "75%          1.000000\n",
       "max          2.000000\n",
       "Name: class, dtype: float64"
      ]
     },
     "execution_count": 10,
     "metadata": {},
     "output_type": "execute_result"
    }
   ],
   "source": [
    "data.at[data['class'] == 'STAR', 'class'] = 0\n",
    "data.at[data['class'] == 'GALAXY', 'class'] = 1\n",
    "data.at[data['class'] == 'QSO', 'class'] = 2\n",
    "data['class'].describe()"
   ]
  },
  {
   "cell_type": "markdown",
   "metadata": {},
   "source": [
    "*Нормализация*\n",
    "\n",
    "Приведем все поля, кроме поля `class`, к одним масштабам изменения"
   ]
  },
  {
   "cell_type": "code",
   "execution_count": 11,
   "metadata": {},
   "outputs": [
    {
     "name": "stdout",
     "output_type": "stream",
     "text": [
      "                 ra           dec             u             g             r  \\\n",
      "count  10000.000000  10000.000000  10000.000000  10000.000000  10000.000000   \n",
      "mean     175.529987     14.836148     18.619355     17.371931     16.840963   \n",
      "std       47.783439     25.212207      0.828656      0.945457      1.067764   \n",
      "min        8.235100     -5.382632     12.988970     12.799550     12.431600   \n",
      "25%      157.370946     -0.539035     18.178035     16.815100     16.173333   \n",
      "50%      180.394514      0.404166     18.853095     17.495135     16.858770   \n",
      "75%      201.547279     35.649397     19.259232     18.010145     17.512675   \n",
      "max      260.884382     68.542265     19.599900     19.918970     24.802040   \n",
      "\n",
      "                  i             z           run        camcol         field  \\\n",
      "count  10000.000000  10000.000000  10000.000000  10000.000000  10000.000000   \n",
      "mean      16.583579     16.422833    981.034800      3.648700    302.380100   \n",
      "std        1.141805      1.203188    273.305024      1.666183    162.577763   \n",
      "min       11.947210     11.610410    308.000000      1.000000     11.000000   \n",
      "25%       15.853705     15.618285    752.000000      2.000000    184.000000   \n",
      "50%       16.554985     16.389945    756.000000      4.000000    299.000000   \n",
      "75%       17.258550     17.141447   1331.000000      5.000000    414.000000   \n",
      "max       28.179630     22.833060   1412.000000      6.000000    768.000000   \n",
      "\n",
      "          specobjid         class      redshift         plate           mjd  \\\n",
      "count  1.000000e+04  10000.000000  10000.000000  10000.000000  10000.000000   \n",
      "mean   1.645022e+18      0.669800      0.143726   1460.986400  52943.533300   \n",
      "std    2.013998e+18      0.625465      0.388774   1788.778371   1511.150651   \n",
      "min    2.995780e+17      0.000000     -0.004136    266.000000  51578.000000   \n",
      "25%    3.389248e+17      0.000000      0.000081    301.000000  51900.000000   \n",
      "50%    4.966580e+17      1.000000      0.042591    441.000000  51997.000000   \n",
      "75%    2.881300e+18      1.000000      0.092579   2559.000000  54468.000000   \n",
      "max    9.468830e+18      2.000000      5.353854   8410.000000  57481.000000   \n",
      "\n",
      "            fiberid  \n",
      "count  10000.000000  \n",
      "mean     353.069400  \n",
      "std      206.298149  \n",
      "min        1.000000  \n",
      "25%      186.750000  \n",
      "50%      351.000000  \n",
      "75%      510.000000  \n",
      "max     1000.000000  \n",
      "                 ra           dec             u             g             r  \\\n",
      "count  1.000000e+04  1.000000e+04  1.000000e+04  1.000000e+04  1.000000e+04   \n",
      "mean  -2.842171e-16 -2.273737e-17  4.317613e-15 -1.278977e-15  6.536993e-17   \n",
      "std    1.000050e+00  1.000050e+00  1.000050e+00  1.000050e+00  1.000050e+00   \n",
      "min   -3.501281e+00 -8.019842e-01 -6.794939e+00 -4.836401e+00 -4.129735e+00   \n",
      "25%   -3.800469e-01 -6.098614e-01 -5.326003e-01 -5.889842e-01 -6.252917e-01   \n",
      "50%    1.018087e-01 -5.724490e-01  2.820849e-01  1.303176e-01  1.667744e-02   \n",
      "75%    5.445107e-01  8.255640e-01  7.722253e-01  6.750654e-01  6.291138e-01   \n",
      "max    1.786365e+00  2.130270e+00  1.183354e+00  2.694110e+00  7.456210e+00   \n",
      "\n",
      "                  i             z           run        camcol         field  \\\n",
      "count  1.000000e+04  1.000000e+04  1.000000e+04  1.000000e+04  1.000000e+04   \n",
      "mean  -2.728484e-15  2.430056e-16 -2.273737e-17  2.160050e-16 -1.648459e-16   \n",
      "std    1.000050e+00  1.000050e+00  1.000050e+00  1.000050e+00  1.000050e+00   \n",
      "min   -4.060765e+00 -3.999927e+00 -2.462701e+00 -1.589761e+00 -1.792340e+00   \n",
      "25%   -6.392605e-01 -6.687137e-01 -8.380609e-01 -9.895566e-01 -7.281809e-01   \n",
      "50%   -2.504428e-02 -2.733555e-02 -8.234245e-01  2.108517e-01 -2.079171e-02   \n",
      "75%    5.911733e-01  5.972884e-01  1.280557e+00  8.110559e-01  6.865975e-01   \n",
      "max    1.015640e+01  5.327968e+00  1.576944e+00  1.411260e+00  2.864126e+00   \n",
      "\n",
      "          specobjid         class      redshift         plate           mjd  \\\n",
      "count  1.000000e+04  10000.000000  1.000000e+04  1.000000e+04  1.000000e+04   \n",
      "mean   1.598721e-17      0.669800  5.826450e-17  1.527667e-17 -1.828937e-15   \n",
      "std    1.000050e+00      0.625465  1.000050e+00  1.000050e+00  1.000050e+00   \n",
      "min   -6.680794e-01      0.000000 -3.803474e-01 -6.680795e-01 -9.036833e-01   \n",
      "25%   -6.485418e-01      0.000000 -3.695000e-01 -6.485121e-01 -6.905900e-01   \n",
      "50%   -5.702194e-01      1.000000 -2.601513e-01 -5.702425e-01 -6.263973e-01   \n",
      "75%    6.138735e-01      1.000000 -1.315668e-01  6.138650e-01  1.008862e+00   \n",
      "max    3.884908e+00      2.000000  1.340210e+01  3.884976e+00  3.002807e+00   \n",
      "\n",
      "            fiberid  \n",
      "count  1.000000e+04  \n",
      "mean   1.250555e-16  \n",
      "std    1.000050e+00  \n",
      "min   -1.706690e+00  \n",
      "25%   -8.062492e-01  \n",
      "50%   -1.003161e-02  \n",
      "75%    7.607361e-01  \n",
      "max    3.136058e+00  \n"
     ]
    }
   ],
   "source": [
    "print(data.describe())\n",
    "for col in [col for col in data.columns if col != 'class']:\n",
    "    data[col] -= np.mean(data[col].values)\n",
    "    data[col] /= np.std(data[col].values)\n",
    "print(data.describe())"
   ]
  },
  {
   "cell_type": "markdown",
   "metadata": {},
   "source": [
    "При такой нормализации значения `min`, `max` и квантили оказались порядка единицы - это хорошо"
   ]
  },
  {
   "cell_type": "markdown",
   "metadata": {},
   "source": [
    "*Классификатор*"
   ]
  },
  {
   "cell_type": "code",
   "execution_count": 12,
   "metadata": {},
   "outputs": [
    {
     "name": "stdout",
     "output_type": "stream",
     "text": [
      "(10000, 15) (10000,)\n"
     ]
    }
   ],
   "source": [
    "X = data.drop('class', axis = 1).values\n",
    "y = data['class'].values\n",
    "print(X.shape, y.shape)"
   ]
  },
  {
   "cell_type": "code",
   "execution_count": 13,
   "metadata": {},
   "outputs": [
    {
     "name": "stdout",
     "output_type": "stream",
     "text": [
      "(7000, 15) (3000, 15)\n"
     ]
    }
   ],
   "source": [
    "from sklearn.model_selection import train_test_split\n",
    "X_train, X_test, y_train, y_test = train_test_split(X, y, test_size = 0.3, random_state = 42)\n",
    "print(X_train.shape, X_test.shape)"
   ]
  },
  {
   "cell_type": "code",
   "execution_count": 14,
   "metadata": {},
   "outputs": [
    {
     "data": {
      "text/plain": [
       "KNeighborsClassifier(algorithm='auto', leaf_size=30, metric='minkowski',\n",
       "                     metric_params=None, n_jobs=None, n_neighbors=10, p=2,\n",
       "                     weights='uniform')"
      ]
     },
     "execution_count": 14,
     "metadata": {},
     "output_type": "execute_result"
    }
   ],
   "source": [
    "from sklearn.neighbors import KNeighborsClassifier\n",
    "\n",
    "knn = KNeighborsClassifier(n_neighbors = 10)\n",
    "knn.fit(X_train, y_train)"
   ]
  },
  {
   "cell_type": "code",
   "execution_count": 15,
   "metadata": {},
   "outputs": [],
   "source": [
    "y_test_predict = knn.predict(X_test)\n",
    "err_test  = np.mean(y_test  != y_test_predict)"
   ]
  },
  {
   "cell_type": "code",
   "execution_count": 16,
   "metadata": {},
   "outputs": [
    {
     "name": "stdout",
     "output_type": "stream",
     "text": [
      "0.10166666666666667\n"
     ]
    }
   ],
   "source": [
    "print(err_test)"
   ]
  },
  {
   "cell_type": "markdown",
   "metadata": {},
   "source": [
    "Сработало!"
   ]
  },
  {
   "cell_type": "code",
   "execution_count": 17,
   "metadata": {},
   "outputs": [
    {
     "name": "stdout",
     "output_type": "stream",
     "text": [
      "[[1036  180    1]\n",
      " [  75 1420    2]\n",
      " [  18   29  239]]\n"
     ]
    }
   ],
   "source": [
    "from sklearn.metrics import confusion_matrix\n",
    "\n",
    "print(confusion_matrix(y_test, y_test_predict))"
   ]
  },
  {
   "cell_type": "markdown",
   "metadata": {},
   "source": [
    "-- Можно отметить, что квазары достаточно хорошо отделяются от звезд и галактик"
   ]
  },
  {
   "cell_type": "markdown",
   "metadata": {},
   "source": [
    "Запустим подбор параметров методом GridSearch"
   ]
  },
  {
   "cell_type": "code",
   "execution_count": 172,
   "metadata": {},
   "outputs": [
    {
     "ename": "NameError",
     "evalue": "name 'KNeighborsClassifier' is not defined",
     "output_type": "error",
     "traceback": [
      "\u001b[1;31m---------------------------------------------------------------------------\u001b[0m",
      "\u001b[1;31mNameError\u001b[0m                                 Traceback (most recent call last)",
      "\u001b[1;32m<ipython-input-172-65989e1eca8b>\u001b[0m in \u001b[0;36m<module>\u001b[1;34m\u001b[0m\n\u001b[0;32m      1\u001b[0m \u001b[1;32mfrom\u001b[0m \u001b[0msklearn\u001b[0m\u001b[1;33m.\u001b[0m\u001b[0mmodel_selection\u001b[0m \u001b[1;32mimport\u001b[0m \u001b[0mGridSearchCV\u001b[0m\u001b[1;33m\u001b[0m\u001b[1;33m\u001b[0m\u001b[0m\n\u001b[0;32m      2\u001b[0m \u001b[0mnnb\u001b[0m \u001b[1;33m=\u001b[0m \u001b[1;33m[\u001b[0m\u001b[1;36m1\u001b[0m\u001b[1;33m,\u001b[0m \u001b[1;36m3\u001b[0m\u001b[1;33m,\u001b[0m \u001b[1;36m5\u001b[0m\u001b[1;33m,\u001b[0m \u001b[1;36m10\u001b[0m\u001b[1;33m,\u001b[0m \u001b[1;36m15\u001b[0m\u001b[1;33m,\u001b[0m \u001b[1;36m20\u001b[0m\u001b[1;33m,\u001b[0m \u001b[1;36m25\u001b[0m\u001b[1;33m,\u001b[0m \u001b[1;36m35\u001b[0m\u001b[1;33m,\u001b[0m \u001b[1;36m45\u001b[0m\u001b[1;33m,\u001b[0m \u001b[1;36m55\u001b[0m\u001b[1;33m]\u001b[0m\u001b[1;33m\u001b[0m\u001b[1;33m\u001b[0m\u001b[0m\n\u001b[1;32m----> 3\u001b[1;33m \u001b[0mknn\u001b[0m \u001b[1;33m=\u001b[0m \u001b[0mKNeighborsClassifier\u001b[0m\u001b[1;33m(\u001b[0m\u001b[1;33m)\u001b[0m\u001b[1;33m\u001b[0m\u001b[1;33m\u001b[0m\u001b[0m\n\u001b[0m\u001b[0;32m      4\u001b[0m \u001b[0mgrid\u001b[0m \u001b[1;33m=\u001b[0m \u001b[0mGridSearchCV\u001b[0m\u001b[1;33m(\u001b[0m\u001b[0mknn\u001b[0m\u001b[1;33m,\u001b[0m \u001b[0mparam_grid\u001b[0m \u001b[1;33m=\u001b[0m \u001b[1;33m{\u001b[0m\u001b[1;34m'n_neighbors'\u001b[0m\u001b[1;33m:\u001b[0m \u001b[0mnnb\u001b[0m\u001b[1;33m}\u001b[0m\u001b[1;33m,\u001b[0m \u001b[0mcv\u001b[0m\u001b[1;33m=\u001b[0m\u001b[1;36m10\u001b[0m\u001b[1;33m)\u001b[0m\u001b[1;33m\u001b[0m\u001b[1;33m\u001b[0m\u001b[0m\n\u001b[0;32m      5\u001b[0m \u001b[0mgrid\u001b[0m\u001b[1;33m.\u001b[0m\u001b[0mfit\u001b[0m\u001b[1;33m(\u001b[0m\u001b[0mX_train\u001b[0m\u001b[1;33m,\u001b[0m \u001b[0my_train\u001b[0m\u001b[1;33m)\u001b[0m\u001b[1;33m\u001b[0m\u001b[1;33m\u001b[0m\u001b[0m\n",
      "\u001b[1;31mNameError\u001b[0m: name 'KNeighborsClassifier' is not defined"
     ]
    }
   ],
   "source": [
    "from sklearn.model_selection import GridSearchCV\n",
    "nnb = [1, 3, 5, 10, 15, 20, 25, 35, 45, 55]\n",
    "knn = KNeighborsClassifier()\n",
    "grid = GridSearchCV(knn, param_grid = {'n_neighbors': nnb}, cv=10)\n",
    "grid.fit(X_train, y_train)\n",
    "\n",
    "best_cv_err = 1 - grid.best_score_\n",
    "best_n_neighbors = grid.best_estimator_.n_neighbors\n",
    "print(best_cv_err, best_n_neighbors)"
   ]
  },
  {
   "cell_type": "markdown",
   "metadata": {},
   "source": [
    "Попробуем посмотреть, как изменится точность, если сбалансировать тренировочную выборку по классам, выкинув часть звезд и галактик"
   ]
  },
  {
   "cell_type": "code",
   "execution_count": 19,
   "metadata": {},
   "outputs": [
    {
     "name": "stdout",
     "output_type": "stream",
     "text": [
      "(2935, 15) (3501, 15) (564, 15)\n",
      "(587, 15) (583, 15) (564, 15)\n"
     ]
    }
   ],
   "source": [
    "X_train, y_train = sklearn.utils.shuffle(X_train, y_train)\n",
    "y_star = y_train[np.squeeze(np.argwhere(y_train==0))]\n",
    "X_star = X_train[np.squeeze(np.argwhere(y_train==0))]\n",
    "y_galaxy = y_train[np.squeeze(np.argwhere(y_train==1))]\n",
    "X_galaxy = X_train[np.squeeze(np.argwhere(y_train==1))]\n",
    "y_qso = y_train[np.squeeze(np.argwhere(y_train==2))]\n",
    "X_qso = X_train[np.squeeze(np.argwhere(y_train==2))]\n",
    "print(X_star.shape, X_galaxy.shape, X_qso.shape)\n",
    "X_star = X_star[:len(X_star)//5]\n",
    "y_star = y_star[:len(y_star)//5]\n",
    "X_galaxy = X_galaxy[:len(X_galaxy)//6]\n",
    "y_galaxy = y_galaxy[:len(y_galaxy)//6]\n",
    "print(X_star.shape, X_galaxy.shape, X_qso.shape)"
   ]
  },
  {
   "cell_type": "code",
   "execution_count": 20,
   "metadata": {},
   "outputs": [
    {
     "name": "stdout",
     "output_type": "stream",
     "text": [
      "(1734, 15) (1734,)\n"
     ]
    }
   ],
   "source": [
    "X_train2 = np.concatenate((X_star, X_galaxy, X_qso), axis = 0)\n",
    "y_train2 = np.concatenate((y_star, y_galaxy, y_qso), axis = 0)\n",
    "X_train2, y_train2 = sklearn.utils.shuffle(X_train2, y_train2)\n",
    "\n",
    "print(X_train2.shape, y_train2.shape)"
   ]
  },
  {
   "cell_type": "code",
   "execution_count": 21,
   "metadata": {},
   "outputs": [
    {
     "name": "stdout",
     "output_type": "stream",
     "text": [
      "0.12133333333333333\n"
     ]
    }
   ],
   "source": [
    "knn = KNeighborsClassifier(n_neighbors = 3)\n",
    "knn.fit(X_train2, y_train2)\n",
    "y_test_predict = knn.predict(X_test)\n",
    "err_test  = np.mean(y_test  != y_test_predict)\n",
    "print(err_test)"
   ]
  },
  {
   "cell_type": "markdown",
   "metadata": {},
   "source": [
    "Ошибка ухудшилась, потому что стало меньше примеров в выборе - это особенность метода knn. В данном случае такой прием не подходит."
   ]
  },
  {
   "cell_type": "markdown",
   "metadata": {},
   "source": [
    "Попробуем другие методы"
   ]
  },
  {
   "cell_type": "code",
   "execution_count": 173,
   "metadata": {},
   "outputs": [
    {
     "name": "stdout",
     "output_type": "stream",
     "text": [
      "0.038 0.04533333333333334\n"
     ]
    }
   ],
   "source": [
    "from sklearn.svm import SVC\n",
    "svc = SVC(gamma='auto')\n",
    "svc.fit(X_train, y_train)\n",
    "\n",
    "err_train = np.mean(y_train != svc.predict(X_train))\n",
    "err_test  = np.mean(y_test  != svc.predict(X_test))\n",
    "\n",
    "print(err_train, err_test)"
   ]
  },
  {
   "cell_type": "code",
   "execution_count": 174,
   "metadata": {},
   "outputs": [
    {
     "name": "stdout",
     "output_type": "stream",
     "text": [
      "Fitting 3 folds for each of 100 candidates, totalling 300 fits\n"
     ]
    },
    {
     "name": "stderr",
     "output_type": "stream",
     "text": [
      "[Parallel(n_jobs=-1)]: Using backend LokyBackend with 4 concurrent workers.\n",
      "[Parallel(n_jobs=-1)]: Done   5 tasks      | elapsed:    4.9s\n",
      "[Parallel(n_jobs=-1)]: Done  10 tasks      | elapsed:    6.2s\n",
      "[Parallel(n_jobs=-1)]: Done  17 tasks      | elapsed:    9.0s\n",
      "[Parallel(n_jobs=-1)]: Done  24 tasks      | elapsed:   11.3s\n",
      "[Parallel(n_jobs=-1)]: Done  33 tasks      | elapsed:   15.5s\n",
      "[Parallel(n_jobs=-1)]: Done  42 tasks      | elapsed:   18.2s\n",
      "[Parallel(n_jobs=-1)]: Done  53 tasks      | elapsed:   22.6s\n",
      "[Parallel(n_jobs=-1)]: Done  64 tasks      | elapsed:   27.1s\n",
      "[Parallel(n_jobs=-1)]: Done  77 tasks      | elapsed:   31.1s\n",
      "[Parallel(n_jobs=-1)]: Done  90 tasks      | elapsed:   37.3s\n",
      "[Parallel(n_jobs=-1)]: Done 105 tasks      | elapsed:   41.8s\n",
      "[Parallel(n_jobs=-1)]: Done 120 tasks      | elapsed:   51.0s\n",
      "[Parallel(n_jobs=-1)]: Done 137 tasks      | elapsed:   55.6s\n",
      "[Parallel(n_jobs=-1)]: Done 154 tasks      | elapsed:  1.1min\n",
      "[Parallel(n_jobs=-1)]: Done 173 tasks      | elapsed:  1.2min\n",
      "[Parallel(n_jobs=-1)]: Done 192 tasks      | elapsed:  1.3min\n",
      "[Parallel(n_jobs=-1)]: Done 213 tasks      | elapsed:  1.5min\n",
      "[Parallel(n_jobs=-1)]: Done 234 tasks      | elapsed:  1.6min\n",
      "[Parallel(n_jobs=-1)]: Done 257 tasks      | elapsed:  1.7min\n",
      "[Parallel(n_jobs=-1)]: Done 280 tasks      | elapsed:  1.9min\n",
      "[Parallel(n_jobs=-1)]: Done 300 out of 300 | elapsed:  2.1min finished\n"
     ]
    },
    {
     "name": "stdout",
     "output_type": "stream",
     "text": [
      "0.012142857142857122 10000.0 0.001\n"
     ]
    }
   ],
   "source": [
    "Cs = 10.**np.arange(-5, 5)\n",
    "gamma_array = 10.**np.arange(-5, 5)\n",
    "svc = SVC(gamma='auto')\n",
    "grid = GridSearchCV(svc, cv=3, param_grid = {'C': Cs, 'gamma': gamma_array}, verbose=10, n_jobs = -1)\n",
    "grid.fit(X_train, y_train)\n",
    "\n",
    "best_cv_err = 1 - grid.best_score_\n",
    "best_C = grid.best_estimator_.C\n",
    "print(best_cv_err, best_C, grid.best_estimator_.gamma)"
   ]
  },
  {
   "cell_type": "code",
   "execution_count": 28,
   "metadata": {},
   "outputs": [
    {
     "name": "stdout",
     "output_type": "stream",
     "text": [
      "SVC(C=10000.0, cache_size=200, class_weight=None, coef0=0.0,\n",
      "    decision_function_shape='ovr', degree=3, gamma=0.001, kernel='rbf',\n",
      "    max_iter=-1, probability=False, random_state=None, shrinking=True,\n",
      "    tol=0.001, verbose=False)\n"
     ]
    }
   ],
   "source": [
    "print(grid.best_estimator_)"
   ]
  },
  {
   "cell_type": "code",
   "execution_count": 29,
   "metadata": {},
   "outputs": [
    {
     "name": "stdout",
     "output_type": "stream",
     "text": [
      "0.011333333333333334\n"
     ]
    }
   ],
   "source": [
    "svc = SVC(C = grid.best_estimator_.C, gamma  = grid.best_estimator_.gamma)\n",
    "svc.fit(X_train, y_train)\n",
    "err_test  = np.mean(y_test  != svc.predict(X_test))\n",
    "\n",
    "print(err_test)"
   ]
  },
  {
   "cell_type": "markdown",
   "metadata": {},
   "source": [
    "Метод C-Support Vector Classification работает на порядок лучше!"
   ]
  },
  {
   "cell_type": "code",
   "execution_count": 30,
   "metadata": {},
   "outputs": [
    {
     "name": "stdout",
     "output_type": "stream",
     "text": [
      "0.019333333333333334\n"
     ]
    }
   ],
   "source": [
    "svc = SVC(C = grid.best_estimator_.C, gamma  = grid.best_estimator_.gamma)\n",
    "svc.fit(X_train2, y_train2)\n",
    "err_test  = np.mean(y_test  != svc.predict(X_test))\n",
    "print(err_test)"
   ]
  },
  {
   "cell_type": "markdown",
   "metadata": {},
   "source": [
    "Прием с выкидыванием \"лишних\" примеров здесь тоже не работает"
   ]
  },
  {
   "cell_type": "code",
   "execution_count": 31,
   "metadata": {},
   "outputs": [
    {
     "name": "stdout",
     "output_type": "stream",
     "text": [
      "0.0 0.009333333333333334\n"
     ]
    }
   ],
   "source": [
    "from sklearn import ensemble\n",
    "rf = ensemble.RandomForestClassifier(n_estimators = 1000)\n",
    "rf.fit(X_train, y_train)\n",
    "\n",
    "err_train = np.mean(y_train != rf.predict(X_train))\n",
    "err_test  = np.mean(y_test  != rf.predict(X_test))\n",
    "\n",
    "print(err_train, err_test)"
   ]
  },
  {
   "cell_type": "markdown",
   "metadata": {},
   "source": [
    "Почти идеально!\n",
    "\n",
    "Однако ошибка на train очень маленькая, это оверфит. Нужно уменьшить количество деревьев в лесу - это обобщит алгоритм."
   ]
  },
  {
   "cell_type": "code",
   "execution_count": 35,
   "metadata": {},
   "outputs": [
    {
     "name": "stdout",
     "output_type": "stream",
     "text": [
      "0.002 0.011\n"
     ]
    }
   ],
   "source": [
    "rf = ensemble.RandomForestClassifier(n_estimators = 10)\n",
    "rf.fit(X_train, y_train)\n",
    "\n",
    "err_train = np.mean(y_train != rf.predict(X_train))\n",
    "err_test  = np.mean(y_test  != rf.predict(X_test))\n",
    "\n",
    "print(err_train, err_test)\n",
    "\n"
   ]
  },
  {
   "cell_type": "markdown",
   "metadata": {},
   "source": [
    " -- Почти ничего не изменилось (но зато алгоритм ускорился и упростился)"
   ]
  },
  {
   "cell_type": "code",
   "execution_count": 36,
   "metadata": {},
   "outputs": [
    {
     "name": "stdout",
     "output_type": "stream",
     "text": [
      "[[1216    1    0]\n",
      " [  12 1483    2]\n",
      " [   0   18  268]]\n"
     ]
    }
   ],
   "source": [
    "print(confusion_matrix(y_test, rf.predict(X_test)))"
   ]
  },
  {
   "cell_type": "markdown",
   "metadata": {},
   "source": [
    "-- Случайному лесу, в отличие от knn, сложнее отличать квазары от галактик"
   ]
  },
  {
   "cell_type": "code",
   "execution_count": 37,
   "metadata": {},
   "outputs": [
    {
     "name": "stdout",
     "output_type": "stream",
     "text": [
      "Feature ranking:\n",
      " 1. feature 'redshift' (0.421931)\n",
      " 2. feature '  mjd' (0.133295)\n",
      " 3. feature 'plate' (0.094190)\n",
      " 4. feature 'specobjid' (0.092247)\n",
      " 5. feature '    i' (0.078569)\n",
      " 6. feature '    z' (0.054872)\n",
      " 7. feature '    r' (0.041746)\n",
      " 8. feature '    g' (0.039275)\n",
      " 9. feature '    u' (0.017361)\n",
      "10. feature '   ra' (0.006879)\n",
      "11. feature '  dec' (0.005256)\n",
      "12. feature 'field' (0.004636)\n",
      "13. feature '  run' (0.004421)\n",
      "14. feature 'fiberid' (0.003821)\n",
      "15. feature 'camcol' (0.001499)\n"
     ]
    }
   ],
   "source": [
    "importances = rf.feature_importances_\n",
    "indices = np.argsort(importances)[::-1]\n",
    "print(\"Feature ranking:\")\n",
    "feature_names = [col for col in data.columns if col != 'class']\n",
    "for f in range(X_train.shape[1]):\n",
    "    print(\"%2d. feature '%5s' (%f)\" % (f + 1, feature_names[indices[f]], importances[indices[f]]))   "
   ]
  },
  {
   "cell_type": "markdown",
   "metadata": {},
   "source": [
    "Как и можно было предположить изначально, в основном классификатор использует признаки \"красное смещение\" и интенсивности в частотных каналах. При этом для него почти неважно направление излучения (\"dec\" и \"ra\"), но при этом имеется небольшая зависимость от даты наблюдения - это плохо (может быть, обсерватория специально снимала только квазары в какой-то определенный день). Возможно, чтобы получить более \"честный\" результат, эти параметры необходимо отбросить"
   ]
  },
  {
   "cell_type": "code",
   "execution_count": 38,
   "metadata": {},
   "outputs": [
    {
     "name": "stdout",
     "output_type": "stream",
     "text": [
      "(7000, 6) (3000, 6)\n"
     ]
    }
   ],
   "source": [
    "X = np.stack((data['redshift'].values,data['u'].values, data['i'].values, data['r'].values, data['z'].values, data['g'].values), axis = 1)\n",
    "y = data['class'].values\n",
    "\n",
    "X_train, X_test, y_train, y_test = train_test_split(X, y, test_size = 0.3, random_state = 42)\n",
    "print(X_train.shape, X_test.shape)"
   ]
  },
  {
   "cell_type": "code",
   "execution_count": 39,
   "metadata": {},
   "outputs": [
    {
     "name": "stdout",
     "output_type": "stream",
     "text": [
      "0.0012857142857142856 0.009\n"
     ]
    }
   ],
   "source": [
    "rf = ensemble.RandomForestClassifier(n_estimators = 10)\n",
    "rf.fit(X_train, y_train)\n",
    "\n",
    "err_train = np.mean(y_train != rf.predict(X_train))\n",
    "err_test  = np.mean(y_test  != rf.predict(X_test))\n",
    "\n",
    "print(err_train, err_test)"
   ]
  },
  {
   "cell_type": "markdown",
   "metadata": {},
   "source": [
    "Результат улучшился! При этом он имеет более прозрачный физический смысл."
   ]
  },
  {
   "cell_type": "code",
   "execution_count": 40,
   "metadata": {},
   "outputs": [
    {
     "name": "stdout",
     "output_type": "stream",
     "text": [
      "[[1215    2    0]\n",
      " [   8 1486    3]\n",
      " [   0   14  272]]\n"
     ]
    }
   ],
   "source": [
    "print(confusion_matrix(y_test, rf.predict(X_test)))"
   ]
  },
  {
   "cell_type": "markdown",
   "metadata": {},
   "source": [
    "# Вывод\n",
    "\n",
    "Мы научились с точностью 99% разделять астрономические объекты на классы \"звезда\", \"галактика\" и \"квазар\", используя данные с телескопа. Наилучшую точность показал алгоритм RandomForest. Оказалось, что выкидывание лишних данных может улучшить алгоритм. Мы попробовали сбалансировать тренировочную выборку, но это не увеличило точность."
   ]
  },
  {
   "cell_type": "markdown",
   "metadata": {},
   "source": [
    "# Homework 2 (November 18)"
   ]
  },
  {
   "cell_type": "code",
   "execution_count": 2,
   "metadata": {},
   "outputs": [],
   "source": [
    "import pandas as pd\n",
    "import numpy as np\n",
    "import matplotlib.pyplot as plt\n",
    "import sklearn\n",
    "from sklearn.model_selection import train_test_split\n",
    "from sklearn import ensemble\n",
    "from sklearn.metrics import confusion_matrix\n",
    "\n",
    "%matplotlib inline\n",
    "\n",
    "data = pd.read_csv('./Skyserver_SQL2_27_2018 6_51_39 PM.csv')\n",
    "\n",
    "# нормировать, инче данные, имеющие большой масштаб изменения, будут иметь больший вклад в функцию ошибок регрессии\n",
    "for col in [col for col in data.columns if col != 'class']: \n",
    "    data[col] -= np.mean(data[col].values)\n",
    "    if np.std(data[col].values) == 0: # эти значения не нужны в любом случае\n",
    "        data = data.drop(col, axis = 1)\n",
    "    else:\n",
    "        data[col] /= np.std(data[col].values)\n",
    "data.at[data['class'] == 'STAR', 'class'] = 0\n",
    "data.at[data['class'] == 'GALAXY', 'class'] = 1\n",
    "data.at[data['class'] == 'QSO', 'class'] = 2\n",
    "\n",
    "X = data.drop('class', axis = 1).values\n",
    "y = data['class'].values\n",
    "\n",
    "\n",
    "X_train, X_test, y_train, y_test = train_test_split(X, y, test_size = 0.3, random_state = 42)\n"
   ]
  },
  {
   "cell_type": "code",
   "execution_count": 3,
   "metadata": {},
   "outputs": [
    {
     "data": {
      "text/html": [
       "<div>\n",
       "<style scoped>\n",
       "    .dataframe tbody tr th:only-of-type {\n",
       "        vertical-align: middle;\n",
       "    }\n",
       "\n",
       "    .dataframe tbody tr th {\n",
       "        vertical-align: top;\n",
       "    }\n",
       "\n",
       "    .dataframe thead th {\n",
       "        text-align: right;\n",
       "    }\n",
       "</style>\n",
       "<table border=\"1\" class=\"dataframe\">\n",
       "  <thead>\n",
       "    <tr style=\"text-align: right;\">\n",
       "      <th></th>\n",
       "      <th>ra</th>\n",
       "      <th>dec</th>\n",
       "      <th>u</th>\n",
       "      <th>g</th>\n",
       "      <th>r</th>\n",
       "      <th>i</th>\n",
       "      <th>z</th>\n",
       "      <th>run</th>\n",
       "      <th>camcol</th>\n",
       "      <th>field</th>\n",
       "      <th>specobjid</th>\n",
       "      <th>class</th>\n",
       "      <th>redshift</th>\n",
       "      <th>plate</th>\n",
       "      <th>mjd</th>\n",
       "      <th>fiberid</th>\n",
       "    </tr>\n",
       "  </thead>\n",
       "  <tbody>\n",
       "    <tr>\n",
       "      <th>count</th>\n",
       "      <td>1.000000e+04</td>\n",
       "      <td>1.000000e+04</td>\n",
       "      <td>1.000000e+04</td>\n",
       "      <td>1.000000e+04</td>\n",
       "      <td>1.000000e+04</td>\n",
       "      <td>1.000000e+04</td>\n",
       "      <td>1.000000e+04</td>\n",
       "      <td>1.000000e+04</td>\n",
       "      <td>1.000000e+04</td>\n",
       "      <td>1.000000e+04</td>\n",
       "      <td>1.000000e+04</td>\n",
       "      <td>10000.000000</td>\n",
       "      <td>1.000000e+04</td>\n",
       "      <td>1.000000e+04</td>\n",
       "      <td>1.000000e+04</td>\n",
       "      <td>1.000000e+04</td>\n",
       "    </tr>\n",
       "    <tr>\n",
       "      <th>mean</th>\n",
       "      <td>-2.842171e-16</td>\n",
       "      <td>-2.273737e-17</td>\n",
       "      <td>4.317613e-15</td>\n",
       "      <td>-1.278977e-15</td>\n",
       "      <td>6.536993e-17</td>\n",
       "      <td>-2.728484e-15</td>\n",
       "      <td>2.430056e-16</td>\n",
       "      <td>-2.273737e-17</td>\n",
       "      <td>2.160050e-16</td>\n",
       "      <td>-1.648459e-16</td>\n",
       "      <td>1.598721e-17</td>\n",
       "      <td>0.669800</td>\n",
       "      <td>5.826450e-17</td>\n",
       "      <td>1.527667e-17</td>\n",
       "      <td>-1.828937e-15</td>\n",
       "      <td>1.250555e-16</td>\n",
       "    </tr>\n",
       "    <tr>\n",
       "      <th>std</th>\n",
       "      <td>1.000050e+00</td>\n",
       "      <td>1.000050e+00</td>\n",
       "      <td>1.000050e+00</td>\n",
       "      <td>1.000050e+00</td>\n",
       "      <td>1.000050e+00</td>\n",
       "      <td>1.000050e+00</td>\n",
       "      <td>1.000050e+00</td>\n",
       "      <td>1.000050e+00</td>\n",
       "      <td>1.000050e+00</td>\n",
       "      <td>1.000050e+00</td>\n",
       "      <td>1.000050e+00</td>\n",
       "      <td>0.625465</td>\n",
       "      <td>1.000050e+00</td>\n",
       "      <td>1.000050e+00</td>\n",
       "      <td>1.000050e+00</td>\n",
       "      <td>1.000050e+00</td>\n",
       "    </tr>\n",
       "    <tr>\n",
       "      <th>min</th>\n",
       "      <td>-3.501281e+00</td>\n",
       "      <td>-8.019842e-01</td>\n",
       "      <td>-6.794939e+00</td>\n",
       "      <td>-4.836401e+00</td>\n",
       "      <td>-4.129735e+00</td>\n",
       "      <td>-4.060765e+00</td>\n",
       "      <td>-3.999927e+00</td>\n",
       "      <td>-2.462701e+00</td>\n",
       "      <td>-1.589761e+00</td>\n",
       "      <td>-1.792340e+00</td>\n",
       "      <td>-6.680794e-01</td>\n",
       "      <td>0.000000</td>\n",
       "      <td>-3.803474e-01</td>\n",
       "      <td>-6.680795e-01</td>\n",
       "      <td>-9.036833e-01</td>\n",
       "      <td>-1.706690e+00</td>\n",
       "    </tr>\n",
       "    <tr>\n",
       "      <th>25%</th>\n",
       "      <td>-3.800469e-01</td>\n",
       "      <td>-6.098614e-01</td>\n",
       "      <td>-5.326003e-01</td>\n",
       "      <td>-5.889842e-01</td>\n",
       "      <td>-6.252917e-01</td>\n",
       "      <td>-6.392605e-01</td>\n",
       "      <td>-6.687137e-01</td>\n",
       "      <td>-8.380609e-01</td>\n",
       "      <td>-9.895566e-01</td>\n",
       "      <td>-7.281809e-01</td>\n",
       "      <td>-6.485418e-01</td>\n",
       "      <td>0.000000</td>\n",
       "      <td>-3.695000e-01</td>\n",
       "      <td>-6.485121e-01</td>\n",
       "      <td>-6.905900e-01</td>\n",
       "      <td>-8.062492e-01</td>\n",
       "    </tr>\n",
       "    <tr>\n",
       "      <th>50%</th>\n",
       "      <td>1.018087e-01</td>\n",
       "      <td>-5.724490e-01</td>\n",
       "      <td>2.820849e-01</td>\n",
       "      <td>1.303176e-01</td>\n",
       "      <td>1.667744e-02</td>\n",
       "      <td>-2.504428e-02</td>\n",
       "      <td>-2.733555e-02</td>\n",
       "      <td>-8.234245e-01</td>\n",
       "      <td>2.108517e-01</td>\n",
       "      <td>-2.079171e-02</td>\n",
       "      <td>-5.702194e-01</td>\n",
       "      <td>1.000000</td>\n",
       "      <td>-2.601513e-01</td>\n",
       "      <td>-5.702425e-01</td>\n",
       "      <td>-6.263973e-01</td>\n",
       "      <td>-1.003161e-02</td>\n",
       "    </tr>\n",
       "    <tr>\n",
       "      <th>75%</th>\n",
       "      <td>5.445107e-01</td>\n",
       "      <td>8.255640e-01</td>\n",
       "      <td>7.722253e-01</td>\n",
       "      <td>6.750654e-01</td>\n",
       "      <td>6.291138e-01</td>\n",
       "      <td>5.911733e-01</td>\n",
       "      <td>5.972884e-01</td>\n",
       "      <td>1.280557e+00</td>\n",
       "      <td>8.110559e-01</td>\n",
       "      <td>6.865975e-01</td>\n",
       "      <td>6.138735e-01</td>\n",
       "      <td>1.000000</td>\n",
       "      <td>-1.315668e-01</td>\n",
       "      <td>6.138650e-01</td>\n",
       "      <td>1.008862e+00</td>\n",
       "      <td>7.607361e-01</td>\n",
       "    </tr>\n",
       "    <tr>\n",
       "      <th>max</th>\n",
       "      <td>1.786365e+00</td>\n",
       "      <td>2.130270e+00</td>\n",
       "      <td>1.183354e+00</td>\n",
       "      <td>2.694110e+00</td>\n",
       "      <td>7.456210e+00</td>\n",
       "      <td>1.015640e+01</td>\n",
       "      <td>5.327968e+00</td>\n",
       "      <td>1.576944e+00</td>\n",
       "      <td>1.411260e+00</td>\n",
       "      <td>2.864126e+00</td>\n",
       "      <td>3.884908e+00</td>\n",
       "      <td>2.000000</td>\n",
       "      <td>1.340210e+01</td>\n",
       "      <td>3.884976e+00</td>\n",
       "      <td>3.002807e+00</td>\n",
       "      <td>3.136058e+00</td>\n",
       "    </tr>\n",
       "  </tbody>\n",
       "</table>\n",
       "</div>"
      ],
      "text/plain": [
       "                 ra           dec             u             g             r  \\\n",
       "count  1.000000e+04  1.000000e+04  1.000000e+04  1.000000e+04  1.000000e+04   \n",
       "mean  -2.842171e-16 -2.273737e-17  4.317613e-15 -1.278977e-15  6.536993e-17   \n",
       "std    1.000050e+00  1.000050e+00  1.000050e+00  1.000050e+00  1.000050e+00   \n",
       "min   -3.501281e+00 -8.019842e-01 -6.794939e+00 -4.836401e+00 -4.129735e+00   \n",
       "25%   -3.800469e-01 -6.098614e-01 -5.326003e-01 -5.889842e-01 -6.252917e-01   \n",
       "50%    1.018087e-01 -5.724490e-01  2.820849e-01  1.303176e-01  1.667744e-02   \n",
       "75%    5.445107e-01  8.255640e-01  7.722253e-01  6.750654e-01  6.291138e-01   \n",
       "max    1.786365e+00  2.130270e+00  1.183354e+00  2.694110e+00  7.456210e+00   \n",
       "\n",
       "                  i             z           run        camcol         field  \\\n",
       "count  1.000000e+04  1.000000e+04  1.000000e+04  1.000000e+04  1.000000e+04   \n",
       "mean  -2.728484e-15  2.430056e-16 -2.273737e-17  2.160050e-16 -1.648459e-16   \n",
       "std    1.000050e+00  1.000050e+00  1.000050e+00  1.000050e+00  1.000050e+00   \n",
       "min   -4.060765e+00 -3.999927e+00 -2.462701e+00 -1.589761e+00 -1.792340e+00   \n",
       "25%   -6.392605e-01 -6.687137e-01 -8.380609e-01 -9.895566e-01 -7.281809e-01   \n",
       "50%   -2.504428e-02 -2.733555e-02 -8.234245e-01  2.108517e-01 -2.079171e-02   \n",
       "75%    5.911733e-01  5.972884e-01  1.280557e+00  8.110559e-01  6.865975e-01   \n",
       "max    1.015640e+01  5.327968e+00  1.576944e+00  1.411260e+00  2.864126e+00   \n",
       "\n",
       "          specobjid         class      redshift         plate           mjd  \\\n",
       "count  1.000000e+04  10000.000000  1.000000e+04  1.000000e+04  1.000000e+04   \n",
       "mean   1.598721e-17      0.669800  5.826450e-17  1.527667e-17 -1.828937e-15   \n",
       "std    1.000050e+00      0.625465  1.000050e+00  1.000050e+00  1.000050e+00   \n",
       "min   -6.680794e-01      0.000000 -3.803474e-01 -6.680795e-01 -9.036833e-01   \n",
       "25%   -6.485418e-01      0.000000 -3.695000e-01 -6.485121e-01 -6.905900e-01   \n",
       "50%   -5.702194e-01      1.000000 -2.601513e-01 -5.702425e-01 -6.263973e-01   \n",
       "75%    6.138735e-01      1.000000 -1.315668e-01  6.138650e-01  1.008862e+00   \n",
       "max    3.884908e+00      2.000000  1.340210e+01  3.884976e+00  3.002807e+00   \n",
       "\n",
       "            fiberid  \n",
       "count  1.000000e+04  \n",
       "mean   1.250555e-16  \n",
       "std    1.000050e+00  \n",
       "min   -1.706690e+00  \n",
       "25%   -8.062492e-01  \n",
       "50%   -1.003161e-02  \n",
       "75%    7.607361e-01  \n",
       "max    3.136058e+00  "
      ]
     },
     "execution_count": 3,
     "metadata": {},
     "output_type": "execute_result"
    }
   ],
   "source": [
    "data.describe()"
   ]
  },
  {
   "cell_type": "markdown",
   "metadata": {},
   "source": [
    "Baseline"
   ]
  },
  {
   "cell_type": "code",
   "execution_count": 4,
   "metadata": {},
   "outputs": [
    {
     "name": "stdout",
     "output_type": "stream",
     "text": [
      "Train error: \n",
      " 0.0015714285714285715  \n",
      "Test error: \n",
      " 0.009666666666666667\n"
     ]
    }
   ],
   "source": [
    "rf = ensemble.RandomForestClassifier(n_estimators = 10)\n",
    "rf.fit(X_train, y_train)\n",
    "\n",
    "err_train = np.mean(y_train != rf.predict(X_train))\n",
    "err_test_baseline  = np.mean(y_test  != rf.predict(X_test))\n",
    "\n",
    "print('Train error: \\n', err_train, ' \\nTest error: \\n', err_test_baseline)"
   ]
  },
  {
   "cell_type": "markdown",
   "metadata": {},
   "source": [
    "Визуализация"
   ]
  },
  {
   "cell_type": "code",
   "execution_count": 5,
   "metadata": {},
   "outputs": [
    {
     "name": "stdout",
     "output_type": "stream",
     "text": [
      "Variances: \n",
      " [0.30675716 0.2125822 ]\n"
     ]
    },
    {
     "data": {
      "text/plain": [
       "<matplotlib.collections.PathCollection at 0x26e2ccfbf08>"
      ]
     },
     "execution_count": 5,
     "metadata": {},
     "output_type": "execute_result"
    },
    {
     "data": {
      "image/png": "[encoded data removed]",
      "text/plain": [
       "<Figure size 432x288 with 1 Axes>"
      ]
     },
     "metadata": {
      "needs_background": "light"
     },
     "output_type": "display_data"
    }
   ],
   "source": [
    "pca = sklearn.decomposition.PCA(n_components = 2)\n",
    "X_view = pca.fit_transform(X)\n",
    "print('Variances: \\n', pca.explained_variance_ratio_)\n",
    "plt.scatter(X_view[y == 0, 0], X_view[y == 0, 1], color = 'red', s = 2)\n",
    "plt.scatter(X_view[y == 1, 0], X_view[y == 1, 1], color = 'blue', s = 2)\n",
    "plt.scatter(X_view[y == 2, 0], X_view[y == 2, 1], color = 'green', s = 2)\n"
   ]
  },
  {
   "cell_type": "markdown",
   "metadata": {},
   "source": [
    " - на этой плоскости можно легко увидеть три кластера, отвечающих каждому классу\n",
    " "
   ]
  },
  {
   "cell_type": "markdown",
   "metadata": {},
   "source": [
    "Как было выяснено выше, в данных имеется несколько коррелированных столбцов, имеющих очевидный физический смысл и представляющих доминирующую важность для классификатора (назовем их physical components). Посмотрим, как выглядят они после одномерного и двумерного преобразования:"
   ]
  },
  {
   "cell_type": "code",
   "execution_count": 6,
   "metadata": {},
   "outputs": [
    {
     "data": {
      "image/png": "[encoded data removed]",
      "text/plain": [
       "<Figure size 432x288 with 1 Axes>"
      ]
     },
     "metadata": {
      "needs_background": "light"
     },
     "output_type": "display_data"
    },
    {
     "data": {
      "image/png": "[encoded data removed]",
      "text/plain": [
       "<Figure size 432x288 with 1 Axes>"
      ]
     },
     "metadata": {
      "needs_background": "light"
     },
     "output_type": "display_data"
    }
   ],
   "source": [
    "X_small = np.stack((data['redshift'].values,data['u'].values, data['i'].values, data['r'].values, data['z'].values, data['g'].values), axis = 1)\n",
    "pca = sklearn.decomposition.PCA(n_components = 2)\n",
    "X_view = pca.fit_transform(X_small)\n",
    "plt.title('2 - dimensional transform')\n",
    "plt.xlabel('First component')\n",
    "plt.ylabel('Second component')\n",
    "plt.scatter(X_view[y == 1, 0], X_view[y == 1, 1], color = 'blue', s = 2)\n",
    "plt.scatter(X_view[y == 0, 0], X_view[y == 0, 1], color = 'red', s = 2)\n",
    "plt.scatter(X_view[y == 2, 0], X_view[y == 2, 1], color = 'green', s = 2)\n",
    "plt.show()\n",
    "\n",
    "pca = sklearn.decomposition.PCA(n_components = 1)\n",
    "X_view = pca.fit_transform(X_small)\n",
    "t = np.linspace(0, X.shape[0], X.shape[0])\n",
    "plt.title(' 1 - dimensional transform')\n",
    "plt.xlabel('Number of sample')\n",
    "plt.ylabel('Transformed component')\n",
    "plt.scatter(t[y == 1], X_view[y == 1, 0], color = 'blue', s = 2)\n",
    "plt.scatter(t[y == 0], X_view[y == 0, 0], color = 'red', s = 2)\n",
    "plt.scatter(t[y == 2], X_view[y == 2, 0], color = 'green', s = 2)\n",
    "plt.show()"
   ]
  },
  {
   "cell_type": "markdown",
   "metadata": {},
   "source": [
    "- На двумерной плоскости видно, что квазары расположены вдоль вектора, ортогонального вектору, вдоль которого расположены звезды и галактикы, и, как следствие, квазары легко кластеризуются на одномерной картинке\n",
    "\n",
    "- Очень трудно разделить звезды и галактики как на двумерной, так и на одномерной картинах"
   ]
  },
  {
   "cell_type": "markdown",
   "metadata": {},
   "source": [
    "Классификатор на преобразованных данных:"
   ]
  },
  {
   "cell_type": "code",
   "execution_count": 7,
   "metadata": {},
   "outputs": [
    {
     "name": "stdout",
     "output_type": "stream",
     "text": [
      "Train error: \n",
      " 0.014857142857142857  \n",
      "Test error: \n",
      " 0.18233333333333332\n",
      "Confusion matrix: \n",
      " [[ 934  254   29]\n",
      " [ 154 1326   17]\n",
      " [  53   40  193]]\n"
     ]
    }
   ],
   "source": [
    "pca = sklearn.decomposition.PCA(n_components = 2)\n",
    "X_view = pca.fit_transform(X)\n",
    "X_train, X_test, y_train, y_test = train_test_split(X_view, y, test_size = 0.3, random_state = 42)\n",
    "rf = ensemble.RandomForestClassifier(n_estimators = 10)\n",
    "rf.fit(X_train, y_train)\n",
    "err_train = np.mean(y_train != rf.predict(X_train))\n",
    "err_test  = np.mean(y_test  != rf.predict(X_test))\n",
    "print('Train error: \\n', err_train, ' \\nTest error: \\n', err_test)\n",
    "\n",
    "print('Confusion matrix: \\n', confusion_matrix(y_test, rf.predict(X_test)))"
   ]
  },
  {
   "cell_type": "code",
   "execution_count": 8,
   "metadata": {},
   "outputs": [
    {
     "name": "stdout",
     "output_type": "stream",
     "text": [
      "Train error (physical components): \n",
      " 0.019857142857142858  \n",
      "Test error (physical components): \n",
      " 0.315\n",
      "[[ 773  435    9]\n",
      " [ 464 1027    6]\n",
      " [  17   14  255]]\n"
     ]
    }
   ],
   "source": [
    "pca = sklearn.decomposition.PCA(n_components = 2)\n",
    "X_view = pca.fit_transform(X_small)\n",
    "X_train, X_test, y_train, y_test = train_test_split(X_view, y, test_size = 0.3, random_state = 42)\n",
    "rf = ensemble.RandomForestClassifier(n_estimators = 10)\n",
    "rf.fit(X_train, y_train)\n",
    "err_train = np.mean(y_train != rf.predict(X_train))\n",
    "err_test  = np.mean(y_test  != rf.predict(X_test))\n",
    "print('Train error (physical components): \\n', err_train, ' \\nTest error (physical components): \\n', err_test)\n",
    "print(confusion_matrix(y_test, rf.predict(X_test)))"
   ]
  },
  {
   "cell_type": "markdown",
   "metadata": {},
   "source": [
    "Действительно, как видно из confusion matrix, ошибка разделения звезд и галактик велика. Точность на двух компонентах существенно ниже результата baseline."
   ]
  },
  {
   "cell_type": "markdown",
   "metadata": {},
   "source": [
    "Выберем такое число главных компонент, чтобы объясненная дисперсия $\\alpha$ была не меньше 95%"
   ]
  },
  {
   "cell_type": "code",
   "execution_count": 9,
   "metadata": {},
   "outputs": [
    {
     "name": "stdout",
     "output_type": "stream",
     "text": [
      "n_components:  7 , explained variance:  0.9585944418979689\n",
      "Train error: \n",
      " 0.004285714285714286  \n",
      "Test error: \n",
      " 0.09466666666666666\n"
     ]
    }
   ],
   "source": [
    "alpha = 0.95\n",
    "\n",
    "pca = sklearn.decomposition.PCA(n_components = X.shape[1])\n",
    "pca.fit(X)\n",
    "for i in range(len(pca.explained_variance_ratio_)):\n",
    "    if np.sum(pca.explained_variance_ratio_[:X.shape[1] - i]) > alpha:\n",
    "        continue\n",
    "    else:\n",
    "        break\n",
    "X_transformed = pca.transform(X)[:, :i]\n",
    "print('n_components: ', X.shape[1] - i, ', explained variance: ', np.sum(pca.explained_variance_ratio_[:i])) \n",
    "X_transformed = X_transformed[:, :i]\n",
    "X_train, X_test, y_train, y_test = train_test_split(X_transformed, y, test_size = 0.3, random_state = 42)\n",
    "\n",
    "rf = ensemble.RandomForestClassifier(n_estimators = 10)\n",
    "rf.fit(X_train, y_train)\n",
    "\n",
    "err_train = np.mean(y_train != rf.predict(X_train))\n",
    "err_test  = np.mean(y_test  != rf.predict(X_test))\n",
    "print('Train error: \\n', err_train, ' \\nTest error: \\n', err_test)"
   ]
  },
  {
   "cell_type": "markdown",
   "metadata": {},
   "source": [
    "Теперь построим график зависимости ошибки от числа компонент"
   ]
  },
  {
   "cell_type": "code",
   "execution_count": 10,
   "metadata": {},
   "outputs": [
    {
     "name": "stdout",
     "output_type": "stream",
     "text": [
      "Difference with baseline at n_components = max:  0.034\n"
     ]
    },
    {
     "data": {
      "image/png": "[encoded data removed]",
      "text/plain": [
       "<Figure size 432x288 with 1 Axes>"
      ]
     },
     "metadata": {
      "needs_background": "light"
     },
     "output_type": "display_data"
    }
   ],
   "source": [
    "train = []\n",
    "test = []\n",
    "components = []\n",
    "for i in range(1, X.shape[1]+1):\n",
    "    pca = sklearn.decomposition.PCA(n_components = i)\n",
    "    X_transformed = pca.fit_transform(X)\n",
    "    X_train, X_test, y_train, y_test = train_test_split(X_transformed, y, test_size = 0.3, random_state = 42)\n",
    "    rf = ensemble.RandomForestClassifier(n_estimators = 10)\n",
    "    rf.fit(X_train, y_train)\n",
    "    err_train = np.mean(y_train != rf.predict(X_train))\n",
    "    err_test  = np.mean(y_test  != rf.predict(X_test))\n",
    "    train.append(err_train)\n",
    "    test.append(err_test)\n",
    "    components.append(i)\n",
    "plt.xlabel('n components')\n",
    "plt.ylabel('error')\n",
    "plt.plot(components, train, label = 'train error')\n",
    "plt.plot(components, test, label = 'test error')\n",
    "plt.plot(components, [err_test_baseline]*len(components), label = 'baseline test error')\n",
    "plt.legend()\n",
    "print('Difference with baseline at n_components = max: ', test[-1] - err_test_baseline)"
   ]
  },
  {
   "cell_type": "markdown",
   "metadata": {},
   "source": [
    "Из графика видно, что ошибка классификации методом случайного леса равномерно убывает с увеличением числа компонент. При этом методом blind source separation не удается извлечь тот набор physical components, которые важны для классификатора. В данном случае это можно объяснить большим количеством ненужных коррелированных компонент, которые мешают выделению physical components. При этом нужно обратить внимание, что из-за большой корреляции ненужных компонент с physical components, даже при n_components = 15 ошибка не равна ошибке baseline.\n",
    "\n",
    "Тем не менее, PCA успешно можно использовать для тех задач, где нужно выделить компоненты, не имея доступа к ответам обучающей выборки - например, при выделении компонент сердцебиения из RGB-сигнала в задачах RPPG (определения человеческого пульса по видеозаписи лица), или для упрощения задач поиска многомерного глобального минимума (например, в астрофизике)."
   ]
  },
  {
   "cell_type": "code",
   "execution_count": 177,
   "metadata": {},
   "outputs": [
    {
     "name": "stdout",
     "output_type": "stream",
     "text": [
      "Difference with baseline at n_components = max:  0.0003333333333333348\n"
     ]
    },
    {
     "data": {
      "image/png": "[encoded data removed]",
      "text/plain": [
       "<Figure size 432x288 with 1 Axes>"
      ]
     },
     "metadata": {
      "needs_background": "light"
     },
     "output_type": "display_data"
    }
   ],
   "source": [
    "from sklearn.svm import SVC\n",
    "train = []\n",
    "test = []\n",
    "components = []\n",
    "for i in range(1, X.shape[1]+1):\n",
    "    pca = sklearn.decomposition.PCA(n_components = i)\n",
    "    X_transformed = pca.fit_transform(X)\n",
    "    X_train, X_test, y_train, y_test = train_test_split(X_transformed, y, test_size = 0.3, random_state = 42)\n",
    "    svc = SVC(gamma=0.001, C = 10000) # best grid search parameters from high above\n",
    "    svc.fit(X_train, y_train)\n",
    "    err_train = np.mean(y_train != svc.predict(X_train))\n",
    "    err_test  = np.mean(y_test  != svc.predict(X_test))\n",
    "    train.append(err_train)\n",
    "    test.append(err_test)\n",
    "    components.append(i)\n",
    "plt.xlabel('n components')\n",
    "plt.ylabel('error')\n",
    "plt.plot(components, train, label = 'train error')\n",
    "plt.plot(components, test, label = 'test error')\n",
    "plt.plot(components, [err_test_baseline]*len(components), label = 'baseline test error')\n",
    "plt.legend()\n",
    "print('Difference with baseline at n_components = max: ', test[-1] - err_test_baseline)\n"
   ]
  },
  {
   "cell_type": "markdown",
   "metadata": {},
   "source": [
    "Постфактум можно сказать, что лучшее значение количества компонент для случайного леса - 15 (все компоненты), а для классификатора SVM - 9 или 12 (такое количество компонент, что при дальнейшем его увеличении ошибка меняется незначительно), что отличается от значения, полученного по правилу \"взять количество компонент, описывающих 95% дисперсии\""
   ]
  },
  {
   "cell_type": "markdown",
   "metadata": {},
   "source": [
    "# Homework 3 (December 16)\n",
    "\n",
    "Обучить полносвязную нейронную сеть"
   ]
  },
  {
   "cell_type": "code",
   "execution_count": 105,
   "metadata": {},
   "outputs": [
    {
     "name": "stdout",
     "output_type": "stream",
     "text": [
      "(7000, 15) (3000, 15) (7000,) (3000,)\n"
     ]
    }
   ],
   "source": [
    "import pandas as pd\n",
    "import numpy as np\n",
    "from tqdm import tqdm_notebook as tqdm\n",
    "import matplotlib.pyplot as plt\n",
    "import sklearn\n",
    "from sklearn.model_selection import train_test_split\n",
    "from sklearn import ensemble\n",
    "from sklearn.metrics import confusion_matrix\n",
    "from sklearn.neural_network import MLPClassifier\n",
    "from sklearn.metrics import confusion_matrix\n",
    "import matplotlib.pyplot as plt\n",
    "from mpl_toolkits.mplot3d import Axes3D\n",
    "%matplotlib inline\n",
    "data = pd.read_csv('./Skyserver_SQL2_27_2018 6_51_39 PM.csv')\n",
    "# нормировать, иначе данные, имеющие большой масштаб изменения, будут иметь больший вклад в функцию ошибок регрессии\n",
    "for col in [col for col in data.columns if col != 'class']: \n",
    "    data[col] -= np.mean(data[col].values)\n",
    "    if np.std(data[col].values) == 0: # эти значения не нужны в любом случае\n",
    "        data = data.drop(col, axis = 1)\n",
    "    else:\n",
    "        data[col] /= np.std(data[col].values)\n",
    "data.at[data['class'] == 'STAR', 'class'] = 0\n",
    "data.at[data['class'] == 'GALAXY', 'class'] = 1\n",
    "data.at[data['class'] == 'QSO', 'class'] = 2\n",
    "X = data.drop('class', axis = 1).values\n",
    "y = data['class'].values\n",
    "X_train, X_test, y_train, y_test = train_test_split(X, y, test_size = 0.3, random_state = 42)\n",
    "print(X_train.shape, X_test.shape, y_train.shape, y_test.shape)"
   ]
  },
  {
   "cell_type": "markdown",
   "metadata": {},
   "source": [
    "Baseline"
   ]
  },
  {
   "cell_type": "code",
   "execution_count": 107,
   "metadata": {},
   "outputs": [
    {
     "name": "stdout",
     "output_type": "stream",
     "text": [
      "Error test 0.012 score 0.988\n"
     ]
    }
   ],
   "source": [
    "rf = ensemble.RandomForestClassifier(n_estimators = 10)\n",
    "rf.fit(X_train, y_train)\n",
    "print('Error test', np.mean(y_test  != rf.predict(X_test)), 'score', rf.score(X_test, y_test))"
   ]
  },
  {
   "cell_type": "markdown",
   "metadata": {},
   "source": [
    "Подбираем оптимальные параметры слоев"
   ]
  },
  {
   "cell_type": "code",
   "execution_count": 83,
   "metadata": {},
   "outputs": [
    {
     "data": {
      "text/plain": [
       "<matplotlib.legend.Legend at 0x2ae6b7ce888>"
      ]
     },
     "execution_count": 83,
     "metadata": {},
     "output_type": "execute_result"
    },
    {
     "data": {
      "image/png": "[encoded data removed]",
      "text/plain": [
       "<Figure size 432x288 with 1 Axes>"
      ]
     },
     "metadata": {
      "needs_background": "light"
     },
     "output_type": "display_data"
    }
   ],
   "source": [
    "test_scores =[]\n",
    "train_scores =[]\n",
    "for i in tqdm(range(1, 20)):\n",
    "    mlp_model = MLPClassifier(alpha = 0, hidden_layer_sizes = (i,), solver = 'lbfgs', \n",
    "                              activation = 'logistic', random_state = 42)\n",
    "    mlp_model.fit(X_train, y_train)\n",
    "    train_scores.append(mlp_model.score(X_train, y_train))\n",
    "    test_scores.append(mlp_model.score(X_test, y_test))\n",
    "plt.plot(range(1, 20), train_scores, label = 'Train score')\n",
    "plt.plot(range(1, 20), test_scores, label = 'Test score')\n",
    "plt.legend()"
   ]
  },
  {
   "cell_type": "code",
   "execution_count": 85,
   "metadata": {},
   "outputs": [
    {
     "data": {
      "application/vnd.jupyter.widget-view+json": {
       "model_id": "6ef53ed2937c4c5fa9c54e63f00947bd",
       "version_major": 2,
       "version_minor": 0
      },
      "text/plain": [
       "HBox(children=(IntProgress(value=0, max=10), HTML(value='')))"
      ]
     },
     "metadata": {},
     "output_type": "display_data"
    },
    {
     "name": "stdout",
     "output_type": "stream",
     "text": [
      "1e-05 0.9926666666666667\n",
      "2.1544346900318823e-05 0.992\n",
      "4.641588833612782e-05 0.9923333333333333\n",
      "0.0001 0.9923333333333333\n",
      "0.00021544346900318823 0.9923333333333333\n",
      "0.00046415888336127773 0.992\n",
      "0.001 0.9923333333333333\n",
      "0.002154434690031882 0.9916666666666667\n",
      "0.004641588833612777 0.992\n",
      "0.01 0.9916666666666667\n"
     ]
    },
    {
     "data": {
      "text/plain": [
       "<matplotlib.legend.Legend at 0x2ae66b63988>"
      ]
     },
     "execution_count": 85,
     "metadata": {},
     "output_type": "execute_result"
    },
    {
     "data": {
      "image/png": "[encoded data removed]",
      "text/plain": [
       "<Figure size 432x288 with 1 Axes>"
      ]
     },
     "metadata": {
      "needs_background": "light"
     },
     "output_type": "display_data"
    }
   ],
   "source": [
    "test_scores =[]\n",
    "train_scores =[]\n",
    "\n",
    "for alpha in tqdm(np.logspace(-5, -2, 10)):\n",
    "    mlp_model = MLPClassifier(alpha = alpha, hidden_layer_sizes = (2,), solver = 'lbfgs', \n",
    "                              activation = 'logistic', random_state = 42)\n",
    "    mlp_model.fit(X_train, y_train)\n",
    "    train_scores.append(mlp_model.score(X_train, y_train))\n",
    "    test_scores.append(mlp_model.score(X_test, y_test))\n",
    "    print(alpha, test_scores[-1])\n",
    "plt.plot(np.logspace(-5, -2, 10), train_scores, label = 'Train score')\n",
    "plt.plot(np.logspace(-5, -2, 10), test_scores, label = 'Test score')\n",
    "plt.legend()"
   ]
  },
  {
   "cell_type": "code",
   "execution_count": 93,
   "metadata": {},
   "outputs": [
    {
     "data": {
      "application/vnd.jupyter.widget-view+json": {
       "model_id": "ea23a675d3e24086b3960104c2f114e7",
       "version_major": 2,
       "version_minor": 0
      },
      "text/plain": [
       "HBox(children=(IntProgress(value=0, max=3), HTML(value='')))"
      ]
     },
     "metadata": {},
     "output_type": "display_data"
    },
    {
     "name": "stdout",
     "output_type": "stream",
     "text": [
      "New best score 0.979 1 1 1e-05 logistic\n",
      "New best score 0.9846666666666667 1 2 1e-05 logistic\n",
      "New best score 0.9856666666666667 1 3 1e-05 logistic\n",
      "New best score 0.9923333333333333 2 2 1e-05 logistic\n",
      "New best score 0.993 3 3 1e-05 logistic\n",
      "New best score 0.9936666666666667 3 6 1e-05 logistic\n"
     ]
    }
   ],
   "source": [
    "alpha_opt = 0\n",
    "i_opt = 0\n",
    "j_opt = 0\n",
    "best_score = 0\n",
    "for act in tqdm(['logistic', 'relu','tanh']):\n",
    "    for alpha in np.logspace(-5, -3, 3):\n",
    "        for i in range(1,7):\n",
    "            for j in range(1, 7):\n",
    "                mlp_model = MLPClassifier(alpha = alpha, hidden_layer_sizes = (i,j), solver = 'lbfgs', \n",
    "                                          activation = 'logistic', random_state = 42)\n",
    "                mlp_model.fit(X_train, y_train)\n",
    "                test_score = mlp_model.score(X_test, y_test)\n",
    "                if test_score >= best_score:\n",
    "                    best_score = test_score\n",
    "                    i_opt = i\n",
    "                    j_opt = j\n",
    "                    print('New best score', best_score, i_opt, j_opt, alpha, act)\n"
   ]
  },
  {
   "cell_type": "code",
   "execution_count": 90,
   "metadata": {},
   "outputs": [
    {
     "data": {
      "application/vnd.jupyter.widget-view+json": {
       "model_id": "a38ba6b77a5e45e2b3a3f00193c6cb8a",
       "version_major": 2,
       "version_minor": 0
      },
      "text/plain": [
       "HBox(children=(IntProgress(value=0, max=4), HTML(value='')))"
      ]
     },
     "metadata": {},
     "output_type": "display_data"
    },
    {
     "name": "stdout",
     "output_type": "stream",
     "text": [
      "New best score 0.964 1 1 1\n",
      "New best score 0.9843333333333333 1 2 1\n",
      "New best score 0.9853333333333333 1 4 2\n",
      "New best score 0.9856666666666667 3 2 2\n",
      "New best score 0.991 4 1 2\n",
      "New best score 0.993 3 3 3\n"
     ]
    }
   ],
   "source": [
    "alpha_opt = 1e-5\n",
    "i_opt = 0\n",
    "j_opt = 0\n",
    "s_opt = 0\n",
    "best_score = 0\n",
    "for s in tqdm(range(1,5)):\n",
    "    for i in range(1,5):\n",
    "        for j in range(1, 5):\n",
    "            mlp_model = MLPClassifier(alpha = alpha_opt, hidden_layer_sizes = (i,j, s), solver = 'lbfgs', \n",
    "                                      activation = 'logistic', random_state = 42)\n",
    "            mlp_model.fit(X_train, y_train)\n",
    "            test_score = mlp_model.score(X_test, y_test)\n",
    "            if test_score > best_score:\n",
    "                best_score = test_score\n",
    "                i_opt = i\n",
    "                j_opt = j\n",
    "                s_opt = s\n",
    "                print('New best score', best_score, i_opt, j_opt, s_opt)"
   ]
  },
  {
   "cell_type": "code",
   "execution_count": 91,
   "metadata": {},
   "outputs": [
    {
     "name": "stdout",
     "output_type": "stream",
     "text": [
      "[[1216    9    0]\n",
      " [   1 1485   15]\n",
      " [   0    3  271]]\n"
     ]
    },
    {
     "data": {
      "text/plain": [
       "<matplotlib.colorbar.Colorbar at 0x2ae66c15b88>"
      ]
     },
     "execution_count": 91,
     "metadata": {},
     "output_type": "execute_result"
    },
    {
     "data": {
      "image/png": "[encoded data removed]",
      "text/plain": [
       "<Figure size 432x288 with 2 Axes>"
      ]
     },
     "metadata": {
      "needs_background": "light"
     },
     "output_type": "display_data"
    }
   ],
   "source": [
    "best_mlp_model = MLPClassifier(alpha = alpha_opt, hidden_layer_sizes = (i_opt,j_opt), solver = 'lbfgs', \n",
    "                          activation = 'logistic', random_state = 42)\n",
    "y_test_pred = mlp_model.predict(X_test)\n",
    "M = confusion_matrix(y_test_pred, y_test)\n",
    "print(M)\n",
    "plt.imshow(M)\n",
    "plt.set_cmap('binary')\n",
    "plt.xticks(range(-1, 4))\n",
    "plt.yticks(range(-1, 4))\n",
    "\n",
    "plt.xlabel(\"true label\")\n",
    "plt.ylabel(\"predicted label\")\n",
    "plt.colorbar()"
   ]
  },
  {
   "cell_type": "markdown",
   "metadata": {},
   "source": [
    "Методом перебора гиперпараметров мы выяснили, что из рассмотренных моделей лучшей является четырехсойный перцептрон MLPClassifier(alpha = 1e-5, hidden_layer_sizes = (3,6), solver = 'lbfgs', activation = 'logistic'). В предыдущем домашнем задании было выяснено, что в данной задаче при сокращении размерности пространства ошибка неизбежно растет. Попробуем проделать то же самое для лучшего MLP классификатора, выбрав количество компонент, обоснующее 95% вариации (не факт, что именно этот классификатор останется лучшим для преобразованных данных - это жадное предположение)."
   ]
  },
  {
   "cell_type": "code",
   "execution_count": 100,
   "metadata": {},
   "outputs": [
    {
     "name": "stdout",
     "output_type": "stream",
     "text": [
      "Components: 1 Train score: 0.6161428571428571  Test score: 0.62\n",
      "Components: 2 Train score: 0.854  Test score: 0.8516666666666667\n",
      "Components: 3 Train score: 0.8561428571428571  Test score: 0.8593333333333333\n",
      "Components: 4 Train score: 0.8618571428571429  Test score: 0.8603333333333333\n",
      "Components: 5 Train score: 0.8621428571428571  Test score: 0.8623333333333333\n",
      "Components: 6 Train score: 0.883  Test score: 0.8866666666666667\n",
      "Components: 7 Train score: 0.9035714285714286  Test score: 0.9103333333333333\n",
      "Components: 8 Train score: 0.9564285714285714  Test score: 0.9513333333333334\n",
      "Components: 9 Train score: 0.9848571428571429  Test score: 0.984\n",
      "Components: 10 Train score: 0.985  Test score: 0.984\n",
      "Components: 11 Train score: 0.9864285714285714  Test score: 0.9843333333333333\n",
      "Components: 12 Train score: 0.9901428571428571  Test score: 0.9886666666666667\n",
      "Components: 13 Train score: 0.9895714285714285  Test score: 0.99\n",
      "Components: 14 Train score: 0.9912857142857143  Test score: 0.9923333333333333\n",
      "Components: 15 Train score: 0.9922857142857143  Test score: 0.9923333333333333\n"
     ]
    }
   ],
   "source": [
    "for i in range(X.shape[1]):\n",
    "    pca = sklearn.decomposition.PCA(n_components = i+1)\n",
    "    pca.fit(X)\n",
    "    X_transformed = pca.transform(X)\n",
    "    X_train, X_test, y_train, y_test = train_test_split(X_transformed, y, test_size = 0.3, random_state = 42)\n",
    "    best_mlp_model = MLPClassifier(alpha = alpha_opt, hidden_layer_sizes = (i_opt,j_opt), solver = 'lbfgs', \n",
    "                              activation = 'logistic', random_state = 42)\n",
    "    best_mlp_model.fit(X_train, y_train)\n",
    "    test_score = best_mlp_model.score(X_test, y_test)\n",
    "    train_score = best_mlp_model.score(X_train, y_train)\n",
    "\n",
    "    print('Components:', i+1, 'Train score:', train_score, ' Test score:', test_score)"
   ]
  },
  {
   "cell_type": "markdown",
   "metadata": {},
   "source": [
    "# Вывод\n",
    "Мы построили неглубокий MLP-классификатор и перебрали возможные значения гиперпараметров, а также попробовали применить преобразование PCA над входными данными. MLP-классификатор побил предыдущий рекорд, полученный методом случайного леса (точность на тестовых данных 0.9937 против 0.988)."
   ]
  },
  {
   "cell_type": "code",
   "execution_count": null,
   "metadata": {},
   "outputs": [],
   "source": []
  }
 ],
 "metadata": {
  "kernelspec": {
   "display_name": "Python 3",
   "language": "python",
   "name": "python3"
  },
  "language_info": {
   "codemirror_mode": {
    "name": "ipython",
    "version": 3
   },
   "file_extension": ".py",
   "mimetype": "text/x-python",
   "name": "python",
   "nbconvert_exporter": "python",
   "pygments_lexer": "ipython3",
   "version": "3.7.4"
  }
 },
 "nbformat": 4,
 "nbformat_minor": 2
}
